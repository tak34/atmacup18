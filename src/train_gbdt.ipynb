{
 "cells": [
  {
   "cell_type": "code",
   "execution_count": 1,
   "metadata": {},
   "outputs": [],
   "source": [
    "import warnings\n",
    "import pandas as pd\n",
    "import os\n",
    "import sys\n",
    "import time\n",
    "import numpy as np\n",
    "import pandas as pd\n",
    "import matplotlib.pyplot as plt\n",
    "from tqdm.auto import tqdm\n",
    "import datetime\n",
    "import math"
   ]
  },
  {
   "cell_type": "code",
   "execution_count": 2,
   "metadata": {},
   "outputs": [
    {
     "name": "stdout",
     "output_type": "stream",
     "text": [
      "set dataset path\n"
     ]
    }
   ],
   "source": [
    "class CFG:\n",
    "    # ============== comp exp name =============\n",
    "    comp_name = 'atmacup_18'  # comp名 モデルの出力先フォルダ名とか\n",
    "\n",
    "    comp_name = 'atmacup_18'  # comp名\n",
    "\n",
    "    comp_dataset_path = '../raw/atmacup_18_dataset/'\n",
    "    \n",
    "    exp_name = 'atmacup_18_gbdt' # notebook\n",
    "\n",
    "    # ============== file path =============\n",
    "    train_fold_dir = \"../proc/baseline/folds\"\n",
    "\n",
    "    # ============== pred target =============\n",
    "    target_size = 18\n",
    "    target_col = ['x_0', 'y_0', 'z_0', 'x_1', 'y_1', 'z_1', 'x_2', 'y_2',\n",
    "                  'z_2', 'x_3', 'y_3', 'z_3', 'x_4', 'y_4', 'z_4', 'x_5', 'y_5', 'z_5']\n",
    "\n",
    "\n",
    "    # ============== fold =============\n",
    "    n_fold = 5\n",
    "    skf_col = 'class'\n",
    "    group_col = 'scene'\n",
    "    fold_type = 'gkf'\n",
    "\n",
    "    objective_cv = 'regression'  # 'binary', 'multiclass', 'regression'\n",
    "    metric_direction = 'minimize'  # 'maximize', 'minimize'\n",
    "    metrics = 'calc_mae_atmacup'\n",
    "\n",
    "    # ============== ほぼ固定 =============\n",
    "    seed = 42\n",
    "\n",
    "    # ============== set dataset path =============\n",
    "    if exp_name is not None:\n",
    "        print('set dataset path')\n",
    "\n",
    "        outputs_path = f'../proc/baseline/outputs/{exp_name}/'\n",
    "\n",
    "        submission_dir = outputs_path + 'submissions/'\n",
    "        submission_path = submission_dir + f'submission_{exp_name}.csv'\n",
    "\n",
    "        model_dir = outputs_path + \\\n",
    "            f'{comp_name}-models/'\n",
    "\n",
    "        figures_dir = outputs_path + 'figures/'\n",
    "\n",
    "        log_dir = outputs_path + 'logs/'\n",
    "        log_path = log_dir + f'{exp_name}.txt'"
   ]
  },
  {
   "cell_type": "markdown",
   "metadata": {},
   "source": [
    "# setting"
   ]
  },
  {
   "cell_type": "code",
   "execution_count": 3,
   "metadata": {},
   "outputs": [],
   "source": [
    "import torch, random\n",
    "\n",
    "# 乱数固定\n",
    "def set_seed(seed=None, cudnn_deterministic=True):\n",
    "    if seed is None:\n",
    "        seed = 42\n",
    "\n",
    "    os.environ['PYTHONHASHSEED'] = str(seed)\n",
    "    np.random.seed(seed)\n",
    "    random.seed(seed)\n",
    "    torch.manual_seed(seed)\n",
    "    torch.cuda.manual_seed(seed)\n",
    "    torch.backends.cudnn.deterministic = cudnn_deterministic\n",
    "    torch.backends.cudnn.benchmark = False\n",
    "\n",
    "def make_dirs(cfg):\n",
    "    for dir in [cfg.model_dir, cfg.figures_dir, cfg.submission_dir, cfg.log_dir]:\n",
    "        os.makedirs(dir, exist_ok=True)\n",
    "\n",
    "def cfg_init(cfg, mode='train'):\n",
    "    set_seed(cfg.seed)\n",
    "\n",
    "    if mode == 'train':\n",
    "        make_dirs(cfg)\n"
   ]
  },
  {
   "cell_type": "code",
   "execution_count": 4,
   "metadata": {},
   "outputs": [],
   "source": [
    "warnings.filterwarnings('ignore')\n",
    "\n",
    "cfg_init(CFG)\n"
   ]
  },
  {
   "cell_type": "markdown",
   "metadata": {},
   "source": [
    "# logger"
   ]
  },
  {
   "cell_type": "code",
   "execution_count": 5,
   "metadata": {},
   "outputs": [],
   "source": [
    "# from common_utils.logger import init_logger, wandb_init, AverageMeter, timeSince\n",
    "# from common_utils.settings import cfg_init\n",
    "\n",
    "def init_logger(log_file):\n",
    "    from logging import getLogger, INFO, FileHandler, Formatter, StreamHandler\n",
    "    logger = getLogger(__name__)\n",
    "    logger.setLevel(INFO)\n",
    "    handler1 = StreamHandler()\n",
    "    handler1.setFormatter(Formatter(\"%(message)s\"))\n",
    "    handler2 = FileHandler(filename=log_file)\n",
    "    handler2.setFormatter(Formatter(\"%(message)s\"))\n",
    "    logger.addHandler(handler1)\n",
    "    logger.addHandler(handler2)\n",
    "    return logger\n",
    "\n",
    "class AverageMeter(object):\n",
    "    \"\"\"Computes and stores the average and current value\"\"\"\n",
    "\n",
    "    def __init__(self):\n",
    "        self.reset()\n",
    "\n",
    "    def reset(self):\n",
    "        self.val = 0\n",
    "        self.avg = 0\n",
    "        self.sum = 0\n",
    "        self.count = 0\n",
    "\n",
    "    def update(self, val, n=1):\n",
    "        self.val = val\n",
    "        self.sum += val * n\n",
    "        self.count += n\n",
    "        self.avg = self.sum / self.count\n",
    "\n",
    "\n",
    "def asMinutes(s):\n",
    "    m = math.floor(s / 60)\n",
    "    s -= m * 60\n",
    "    return '%dm %ds' % (m, s)\n",
    "\n",
    "\n",
    "def timeSince(since, percent):\n",
    "    now = time.time()\n",
    "    s = now - since\n",
    "    es = s / (percent)\n",
    "    rs = es - s\n",
    "    return '%s (remain %s)' % (asMinutes(s), asMinutes(rs))"
   ]
  },
  {
   "cell_type": "code",
   "execution_count": 6,
   "metadata": {},
   "outputs": [
    {
     "name": "stderr",
     "output_type": "stream",
     "text": [
      "\n",
      "\n",
      "-------- exp_info -----------------\n",
      "2024年11月20日 12:59:09\n"
     ]
    }
   ],
   "source": [
    "\n",
    "Logger = init_logger(log_file=CFG.log_path)\n",
    "\n",
    "Logger.info('\\n\\n-------- exp_info -----------------')\n",
    "Logger.info(datetime.datetime.now().strftime('%Y年%m月%d日 %H:%M:%S'))"
   ]
  },
  {
   "cell_type": "markdown",
   "metadata": {},
   "source": [
    "# eval function"
   ]
  },
  {
   "cell_type": "code",
   "execution_count": 7,
   "metadata": {},
   "outputs": [],
   "source": [
    "def calc_mae_atmacup(y_true, y_pred):\n",
    "    abs_diff = np.abs(y_true - y_pred)  # 各予測の差分の絶対値を計算して\n",
    "    mae = np.mean(abs_diff.reshape(-1, ))  # 予測の差分の絶対値の平均を計算\n",
    "\n",
    "    return mae\n",
    "\n",
    "def get_result(result_df):\n",
    "\n",
    "    pred_cols = [f'pred_{i}' for i in range(CFG.target_size)]\n",
    "\n",
    "    preds = result_df[pred_cols].values\n",
    "    labels = result_df[CFG.target_col].values\n",
    "\n",
    "    eval_func = eval(CFG.metrics)\n",
    "    best_score = eval_func(labels, preds)\n",
    "\n",
    "    Logger.info(f'best_score: {best_score:<.4f}')\n",
    "    return best_score\n"
   ]
  },
  {
   "cell_type": "code",
   "execution_count": 8,
   "metadata": {},
   "outputs": [],
   "source": [
    "# train_df = pd.read_csv(CFG.comp_dataset_path + 'train_features.csv')\n",
    "train_df = pd.read_csv(CFG.train_fold_dir + 'train_folds.csv')"
   ]
  },
  {
   "cell_type": "code",
   "execution_count": 9,
   "metadata": {},
   "outputs": [
    {
     "name": "stdout",
     "output_type": "stream",
     "text": [
      "Index(['ID', 'vEgo', 'aEgo', 'steeringAngleDeg', 'steeringTorque', 'brake',\n",
      "       'brakePressed', 'gas', 'gasPressed', 'gearShifter', 'leftBlinker',\n",
      "       'rightBlinker', 'x_0', 'y_0', 'z_0', 'x_1', 'y_1', 'z_1', 'x_2', 'y_2',\n",
      "       'z_2', 'x_3', 'y_3', 'z_3', 'x_4', 'y_4', 'z_4', 'x_5', 'y_5', 'z_5',\n",
      "       'scene', 'fold'],\n",
      "      dtype='object')\n"
     ]
    }
   ],
   "source": [
    "print(train_df.columns)"
   ]
  },
  {
   "cell_type": "code",
   "execution_count": 10,
   "metadata": {},
   "outputs": [
    {
     "data": {
      "text/html": [
       "<div>\n",
       "<style scoped>\n",
       "    .dataframe tbody tr th:only-of-type {\n",
       "        vertical-align: middle;\n",
       "    }\n",
       "\n",
       "    .dataframe tbody tr th {\n",
       "        vertical-align: top;\n",
       "    }\n",
       "\n",
       "    .dataframe thead th {\n",
       "        text-align: right;\n",
       "    }\n",
       "</style>\n",
       "<table border=\"1\" class=\"dataframe\">\n",
       "  <thead>\n",
       "    <tr style=\"text-align: right;\">\n",
       "      <th></th>\n",
       "      <th>ID</th>\n",
       "      <th>vEgo</th>\n",
       "      <th>aEgo</th>\n",
       "      <th>steeringAngleDeg</th>\n",
       "      <th>steeringTorque</th>\n",
       "      <th>brake</th>\n",
       "      <th>brakePressed</th>\n",
       "      <th>gas</th>\n",
       "      <th>gasPressed</th>\n",
       "      <th>gearShifter</th>\n",
       "      <th>...</th>\n",
       "      <th>y_3</th>\n",
       "      <th>z_3</th>\n",
       "      <th>x_4</th>\n",
       "      <th>y_4</th>\n",
       "      <th>z_4</th>\n",
       "      <th>x_5</th>\n",
       "      <th>y_5</th>\n",
       "      <th>z_5</th>\n",
       "      <th>scene</th>\n",
       "      <th>fold</th>\n",
       "    </tr>\n",
       "  </thead>\n",
       "  <tbody>\n",
       "    <tr>\n",
       "      <th>0</th>\n",
       "      <td>00066be8e20318869c38c66be466631a_320</td>\n",
       "      <td>5.701526</td>\n",
       "      <td>1.538456</td>\n",
       "      <td>-2.165777</td>\n",
       "      <td>-139.0</td>\n",
       "      <td>0.0</td>\n",
       "      <td>False</td>\n",
       "      <td>0.250</td>\n",
       "      <td>True</td>\n",
       "      <td>drive</td>\n",
       "      <td>...</td>\n",
       "      <td>0.163448</td>\n",
       "      <td>0.302818</td>\n",
       "      <td>17.574227</td>\n",
       "      <td>0.174289</td>\n",
       "      <td>0.406331</td>\n",
       "      <td>21.951269</td>\n",
       "      <td>0.199503</td>\n",
       "      <td>0.485079</td>\n",
       "      <td>00066be8e20318869c38c66be466631a</td>\n",
       "      <td>0</td>\n",
       "    </tr>\n",
       "    <tr>\n",
       "      <th>1</th>\n",
       "      <td>00066be8e20318869c38c66be466631a_420</td>\n",
       "      <td>11.176292</td>\n",
       "      <td>0.279881</td>\n",
       "      <td>-11.625697</td>\n",
       "      <td>-44.0</td>\n",
       "      <td>0.0</td>\n",
       "      <td>False</td>\n",
       "      <td>0.000</td>\n",
       "      <td>False</td>\n",
       "      <td>drive</td>\n",
       "      <td>...</td>\n",
       "      <td>0.391343</td>\n",
       "      <td>0.036335</td>\n",
       "      <td>26.316489</td>\n",
       "      <td>0.843124</td>\n",
       "      <td>0.065000</td>\n",
       "      <td>31.383814</td>\n",
       "      <td>1.425070</td>\n",
       "      <td>0.073083</td>\n",
       "      <td>00066be8e20318869c38c66be466631a</td>\n",
       "      <td>0</td>\n",
       "    </tr>\n",
       "    <tr>\n",
       "      <th>2</th>\n",
       "      <td>00066be8e20318869c38c66be466631a_520</td>\n",
       "      <td>10.472548</td>\n",
       "      <td>0.231099</td>\n",
       "      <td>-2.985105</td>\n",
       "      <td>-132.0</td>\n",
       "      <td>0.0</td>\n",
       "      <td>False</td>\n",
       "      <td>0.180</td>\n",
       "      <td>True</td>\n",
       "      <td>drive</td>\n",
       "      <td>...</td>\n",
       "      <td>-0.356932</td>\n",
       "      <td>0.058765</td>\n",
       "      <td>25.677387</td>\n",
       "      <td>-0.576985</td>\n",
       "      <td>0.102859</td>\n",
       "      <td>30.460033</td>\n",
       "      <td>-0.841894</td>\n",
       "      <td>0.152889</td>\n",
       "      <td>00066be8e20318869c38c66be466631a</td>\n",
       "      <td>0</td>\n",
       "    </tr>\n",
       "    <tr>\n",
       "      <th>3</th>\n",
       "      <td>000fb056f97572d384bae4f5fc1e0f28_120</td>\n",
       "      <td>6.055565</td>\n",
       "      <td>-0.117775</td>\n",
       "      <td>7.632668</td>\n",
       "      <td>173.0</td>\n",
       "      <td>0.0</td>\n",
       "      <td>False</td>\n",
       "      <td>0.000</td>\n",
       "      <td>False</td>\n",
       "      <td>drive</td>\n",
       "      <td>...</td>\n",
       "      <td>0.603145</td>\n",
       "      <td>0.031858</td>\n",
       "      <td>15.703514</td>\n",
       "      <td>0.960717</td>\n",
       "      <td>0.043479</td>\n",
       "      <td>19.311182</td>\n",
       "      <td>1.374655</td>\n",
       "      <td>0.058754</td>\n",
       "      <td>000fb056f97572d384bae4f5fc1e0f28</td>\n",
       "      <td>0</td>\n",
       "    </tr>\n",
       "    <tr>\n",
       "      <th>4</th>\n",
       "      <td>000fb056f97572d384bae4f5fc1e0f28_20</td>\n",
       "      <td>3.316744</td>\n",
       "      <td>1.276733</td>\n",
       "      <td>-31.725477</td>\n",
       "      <td>-114.0</td>\n",
       "      <td>0.0</td>\n",
       "      <td>False</td>\n",
       "      <td>0.255</td>\n",
       "      <td>True</td>\n",
       "      <td>drive</td>\n",
       "      <td>...</td>\n",
       "      <td>-0.381813</td>\n",
       "      <td>-0.003898</td>\n",
       "      <td>11.619313</td>\n",
       "      <td>-0.554488</td>\n",
       "      <td>0.011393</td>\n",
       "      <td>14.657048</td>\n",
       "      <td>-0.778800</td>\n",
       "      <td>0.044243</td>\n",
       "      <td>000fb056f97572d384bae4f5fc1e0f28</td>\n",
       "      <td>0</td>\n",
       "    </tr>\n",
       "  </tbody>\n",
       "</table>\n",
       "<p>5 rows × 32 columns</p>\n",
       "</div>"
      ],
      "text/plain": [
       "                                     ID       vEgo      aEgo  \\\n",
       "0  00066be8e20318869c38c66be466631a_320   5.701526  1.538456   \n",
       "1  00066be8e20318869c38c66be466631a_420  11.176292  0.279881   \n",
       "2  00066be8e20318869c38c66be466631a_520  10.472548  0.231099   \n",
       "3  000fb056f97572d384bae4f5fc1e0f28_120   6.055565 -0.117775   \n",
       "4   000fb056f97572d384bae4f5fc1e0f28_20   3.316744  1.276733   \n",
       "\n",
       "   steeringAngleDeg  steeringTorque  brake  brakePressed    gas  gasPressed  \\\n",
       "0         -2.165777          -139.0    0.0         False  0.250        True   \n",
       "1        -11.625697           -44.0    0.0         False  0.000       False   \n",
       "2         -2.985105          -132.0    0.0         False  0.180        True   \n",
       "3          7.632668           173.0    0.0         False  0.000       False   \n",
       "4        -31.725477          -114.0    0.0         False  0.255        True   \n",
       "\n",
       "  gearShifter  ...       y_3       z_3        x_4       y_4       z_4  \\\n",
       "0       drive  ...  0.163448  0.302818  17.574227  0.174289  0.406331   \n",
       "1       drive  ...  0.391343  0.036335  26.316489  0.843124  0.065000   \n",
       "2       drive  ... -0.356932  0.058765  25.677387 -0.576985  0.102859   \n",
       "3       drive  ...  0.603145  0.031858  15.703514  0.960717  0.043479   \n",
       "4       drive  ... -0.381813 -0.003898  11.619313 -0.554488  0.011393   \n",
       "\n",
       "         x_5       y_5       z_5                             scene  fold  \n",
       "0  21.951269  0.199503  0.485079  00066be8e20318869c38c66be466631a     0  \n",
       "1  31.383814  1.425070  0.073083  00066be8e20318869c38c66be466631a     0  \n",
       "2  30.460033 -0.841894  0.152889  00066be8e20318869c38c66be466631a     0  \n",
       "3  19.311182  1.374655  0.058754  000fb056f97572d384bae4f5fc1e0f28     0  \n",
       "4  14.657048 -0.778800  0.044243  000fb056f97572d384bae4f5fc1e0f28     0  \n",
       "\n",
       "[5 rows x 32 columns]"
      ]
     },
     "execution_count": 10,
     "metadata": {},
     "output_type": "execute_result"
    }
   ],
   "source": [
    "train_df.head()"
   ]
  },
  {
   "cell_type": "code",
   "execution_count": 11,
   "metadata": {},
   "outputs": [],
   "source": [
    "test_df = pd.read_csv(CFG.comp_dataset_path + 'test_features.csv')"
   ]
  },
  {
   "cell_type": "code",
   "execution_count": 12,
   "metadata": {},
   "outputs": [
    {
     "data": {
      "text/html": [
       "<div>\n",
       "<style scoped>\n",
       "    .dataframe tbody tr th:only-of-type {\n",
       "        vertical-align: middle;\n",
       "    }\n",
       "\n",
       "    .dataframe tbody tr th {\n",
       "        vertical-align: top;\n",
       "    }\n",
       "\n",
       "    .dataframe thead th {\n",
       "        text-align: right;\n",
       "    }\n",
       "</style>\n",
       "<table border=\"1\" class=\"dataframe\">\n",
       "  <thead>\n",
       "    <tr style=\"text-align: right;\">\n",
       "      <th></th>\n",
       "      <th>ID</th>\n",
       "      <th>vEgo</th>\n",
       "      <th>aEgo</th>\n",
       "      <th>steeringAngleDeg</th>\n",
       "      <th>steeringTorque</th>\n",
       "      <th>brake</th>\n",
       "      <th>brakePressed</th>\n",
       "      <th>gas</th>\n",
       "      <th>gasPressed</th>\n",
       "      <th>gearShifter</th>\n",
       "      <th>leftBlinker</th>\n",
       "      <th>rightBlinker</th>\n",
       "    </tr>\n",
       "  </thead>\n",
       "  <tbody>\n",
       "    <tr>\n",
       "      <th>0</th>\n",
       "      <td>012baccc145d400c896cb82065a93d42_120</td>\n",
       "      <td>3.374273</td>\n",
       "      <td>-0.019360</td>\n",
       "      <td>-34.008415</td>\n",
       "      <td>17.0</td>\n",
       "      <td>0.0</td>\n",
       "      <td>False</td>\n",
       "      <td>0.0</td>\n",
       "      <td>False</td>\n",
       "      <td>drive</td>\n",
       "      <td>False</td>\n",
       "      <td>False</td>\n",
       "    </tr>\n",
       "    <tr>\n",
       "      <th>1</th>\n",
       "      <td>012baccc145d400c896cb82065a93d42_220</td>\n",
       "      <td>2.441048</td>\n",
       "      <td>-0.022754</td>\n",
       "      <td>307.860077</td>\n",
       "      <td>295.0</td>\n",
       "      <td>0.0</td>\n",
       "      <td>True</td>\n",
       "      <td>0.0</td>\n",
       "      <td>False</td>\n",
       "      <td>drive</td>\n",
       "      <td>False</td>\n",
       "      <td>False</td>\n",
       "    </tr>\n",
       "    <tr>\n",
       "      <th>2</th>\n",
       "      <td>012baccc145d400c896cb82065a93d42_320</td>\n",
       "      <td>3.604152</td>\n",
       "      <td>-0.286239</td>\n",
       "      <td>10.774388</td>\n",
       "      <td>-110.0</td>\n",
       "      <td>0.0</td>\n",
       "      <td>True</td>\n",
       "      <td>0.0</td>\n",
       "      <td>False</td>\n",
       "      <td>drive</td>\n",
       "      <td>False</td>\n",
       "      <td>False</td>\n",
       "    </tr>\n",
       "    <tr>\n",
       "      <th>3</th>\n",
       "      <td>012baccc145d400c896cb82065a93d42_420</td>\n",
       "      <td>2.048902</td>\n",
       "      <td>-0.537628</td>\n",
       "      <td>61.045235</td>\n",
       "      <td>189.0</td>\n",
       "      <td>0.0</td>\n",
       "      <td>True</td>\n",
       "      <td>0.0</td>\n",
       "      <td>False</td>\n",
       "      <td>drive</td>\n",
       "      <td>True</td>\n",
       "      <td>False</td>\n",
       "    </tr>\n",
       "    <tr>\n",
       "      <th>4</th>\n",
       "      <td>01d738e799d260a10f6324f78023b38f_120</td>\n",
       "      <td>2.201528</td>\n",
       "      <td>-1.898600</td>\n",
       "      <td>5.740093</td>\n",
       "      <td>-41.0</td>\n",
       "      <td>0.0</td>\n",
       "      <td>True</td>\n",
       "      <td>0.0</td>\n",
       "      <td>False</td>\n",
       "      <td>drive</td>\n",
       "      <td>False</td>\n",
       "      <td>False</td>\n",
       "    </tr>\n",
       "  </tbody>\n",
       "</table>\n",
       "</div>"
      ],
      "text/plain": [
       "                                     ID      vEgo      aEgo  steeringAngleDeg  \\\n",
       "0  012baccc145d400c896cb82065a93d42_120  3.374273 -0.019360        -34.008415   \n",
       "1  012baccc145d400c896cb82065a93d42_220  2.441048 -0.022754        307.860077   \n",
       "2  012baccc145d400c896cb82065a93d42_320  3.604152 -0.286239         10.774388   \n",
       "3  012baccc145d400c896cb82065a93d42_420  2.048902 -0.537628         61.045235   \n",
       "4  01d738e799d260a10f6324f78023b38f_120  2.201528 -1.898600          5.740093   \n",
       "\n",
       "   steeringTorque  brake  brakePressed  gas  gasPressed gearShifter  \\\n",
       "0            17.0    0.0         False  0.0       False       drive   \n",
       "1           295.0    0.0          True  0.0       False       drive   \n",
       "2          -110.0    0.0          True  0.0       False       drive   \n",
       "3           189.0    0.0          True  0.0       False       drive   \n",
       "4           -41.0    0.0          True  0.0       False       drive   \n",
       "\n",
       "   leftBlinker  rightBlinker  \n",
       "0        False         False  \n",
       "1        False         False  \n",
       "2        False         False  \n",
       "3         True         False  \n",
       "4        False         False  "
      ]
     },
     "execution_count": 12,
     "metadata": {},
     "output_type": "execute_result"
    }
   ],
   "source": [
    "test_df.head()"
   ]
  },
  {
   "attachments": {},
   "cell_type": "markdown",
   "metadata": {},
   "source": [
    "## preprocess"
   ]
  },
  {
   "cell_type": "code",
   "execution_count": 13,
   "metadata": {},
   "outputs": [],
   "source": [
    "# train_df = get_fold(train_df, CFG)"
   ]
  },
  {
   "cell_type": "code",
   "execution_count": 14,
   "metadata": {},
   "outputs": [],
   "source": [
    "def common_preprocess(target_df):\n",
    "    # boolのcol\n",
    "    bool_cols = ['brakePressed', 'gasPressed', 'leftBlinker', 'rightBlinker']\n",
    "    print('bool_cols', bool_cols)\n",
    "    target_df[bool_cols] = target_df[bool_cols].astype(int)\n",
    "\n",
    "    target_df['scene'] = target_df['ID'].str.split('_').str[0]\n",
    "    target_df['scene_sec'] = target_df['ID'].str.split('_').str[1].astype(int)\n",
    "\n",
    "    count_df = target_df.groupby('scene').size()\n",
    "    target_df['scene_count'] = target_df['scene'].map(count_df)\n",
    "    return target_df"
   ]
  },
  {
   "cell_type": "code",
   "execution_count": 15,
   "metadata": {},
   "outputs": [
    {
     "name": "stdout",
     "output_type": "stream",
     "text": [
      "bool_cols ['brakePressed', 'gasPressed', 'leftBlinker', 'rightBlinker']\n",
      "bool_cols ['brakePressed', 'gasPressed', 'leftBlinker', 'rightBlinker']\n"
     ]
    }
   ],
   "source": [
    "train_df = common_preprocess(train_df)\n",
    "test_df = common_preprocess(test_df)"
   ]
  },
  {
   "cell_type": "markdown",
   "metadata": {},
   "source": [
    "# add traffic light"
   ]
  },
  {
   "cell_type": "code",
   "execution_count": 16,
   "metadata": {},
   "outputs": [],
   "source": [
    "import os, json\n",
    "\n",
    "ids = os.listdir(CFG.comp_dataset_path + 'traffic_lights')\n",
    "\n",
    "traffic_lights = []\n",
    "id_class_list = []\n",
    "for id in ids:\n",
    "    path = CFG.comp_dataset_path + f'traffic_lights/{id}'\n",
    "\n",
    "    traffic_light = json.load(open(path))\n",
    "\n",
    "    traffic_lights.append(traffic_light)\n",
    "\n",
    "    for traffic_light in traffic_light:\n",
    "        id_class_list.append((id.split('.')[0], traffic_light['class']))\n",
    "\n",
    "counts = [len(traffic_light) for traffic_light in traffic_lights]\n",
    "traffic_lights_df = pd.DataFrame(id_class_list, columns=['ID', 'class'])\n"
   ]
  },
  {
   "cell_type": "code",
   "execution_count": 17,
   "metadata": {},
   "outputs": [
    {
     "data": {
      "text/plain": [
       "class\n",
       "green       5879\n",
       "red         4915\n",
       "empty       1352\n",
       "yellow       682\n",
       "straight     647\n",
       "left         576\n",
       "right        306\n",
       "other         60\n",
       "Name: count, dtype: int64"
      ]
     },
     "execution_count": 17,
     "metadata": {},
     "output_type": "execute_result"
    }
   ],
   "source": [
    "traffic_lights_df['class'].value_counts()"
   ]
  },
  {
   "cell_type": "code",
   "execution_count": 18,
   "metadata": {},
   "outputs": [],
   "source": [
    "ids = [id.split('.')[0] for id in ids]\n",
    "\n",
    "traffic_lights_df = pd.DataFrame({\n",
    "    'ID': ids,\n",
    "    'traffic_lights_counts': counts\n",
    "})\n",
    "\n",
    "train_df = pd.merge(train_df, traffic_lights_df, on='ID', how='left')\n",
    "test_df = pd.merge(test_df, traffic_lights_df, on='ID', how='left')"
   ]
  },
  {
   "cell_type": "markdown",
   "metadata": {},
   "source": [
    "# add cnn oof"
   ]
  },
  {
   "cell_type": "code",
   "execution_count": 19,
   "metadata": {},
   "outputs": [
    {
     "name": "stdout",
     "output_type": "stream",
     "text": [
      "['atmacup_18_cnn_exp001_x_0', 'atmacup_18_cnn_exp001_y_0', 'atmacup_18_cnn_exp001_z_0', 'atmacup_18_cnn_exp001_x_1', 'atmacup_18_cnn_exp001_y_1', 'atmacup_18_cnn_exp001_z_1', 'atmacup_18_cnn_exp001_x_2', 'atmacup_18_cnn_exp001_y_2', 'atmacup_18_cnn_exp001_z_2', 'atmacup_18_cnn_exp001_x_3', 'atmacup_18_cnn_exp001_y_3', 'atmacup_18_cnn_exp001_z_3', 'atmacup_18_cnn_exp001_x_4', 'atmacup_18_cnn_exp001_y_4', 'atmacup_18_cnn_exp001_z_4', 'atmacup_18_cnn_exp001_x_5', 'atmacup_18_cnn_exp001_y_5', 'atmacup_18_cnn_exp001_z_5']\n",
      "1.0\n"
     ]
    }
   ],
   "source": [
    "exp_names = ['atmacup_18_cnn_exp001']\n",
    "oof_feat_cols = []\n",
    "\n",
    "for exp_name in exp_names:\n",
    "    _oof_feat_cols  = [f'{exp_name}_{c}' for c in CFG.target_col]   \n",
    "\n",
    "    path = f'../proc/baseline/outputs/{exp_name}/submissions/oof_cv.csv'\n",
    "    cnn_train_df = pd.read_csv(path)\n",
    "    pred_cols = [f'pred_{i}' for i in range(CFG.target_size)]\n",
    "    \n",
    "    train_df[_oof_feat_cols] = cnn_train_df[pred_cols]\n",
    "    print(_oof_feat_cols)\n",
    "    print((train_df['ID'] == cnn_train_df['ID']).sum() / len(train_df))\n",
    "\n",
    "    path = f'../proc/baseline/outputs/{exp_name}/submissions/submission_oof.csv'\n",
    "    cnn_test_df = pd.read_csv(path)\n",
    "    pred_cols = CFG.target_col\n",
    "\n",
    "    test_df[_oof_feat_cols] = cnn_test_df[pred_cols]\n",
    "\n",
    "    oof_feat_cols.extend(_oof_feat_cols)   "
   ]
  },
  {
   "cell_type": "markdown",
   "metadata": {},
   "source": [
    "# make shift feature"
   ]
  },
  {
   "cell_type": "code",
   "execution_count": 20,
   "metadata": {},
   "outputs": [],
   "source": [
    "def make_shift_feature(target_df, use_feat_cols):\n",
    "    shift_count = 1\n",
    "    shift_range = list(range(-shift_count, shift_count+1))\n",
    "    shift_range = [x for x in shift_range if x != 0]\n",
    "\n",
    "    target_df['ori_idx'] = target_df.index\n",
    "\n",
    "    target_df = target_df.sort_values(['scene', 'scene_sec']).reset_index(drop=True)\n",
    "\n",
    "    shift_feat_cols = []\n",
    "    for shift in shift_range:\n",
    "        for col in use_feat_cols:\n",
    "            shift_col = f'{col}_shift{shift}'\n",
    "            target_df[shift_col] = target_df.groupby('scene')[col].shift(shift)\n",
    "            shift_feat_cols.append(shift_col)\n",
    "\n",
    "            diff_col = f'{col}_diff{shift}'\n",
    "            target_df[diff_col] = target_df[col] - target_df[shift_col]\n",
    "            shift_feat_cols.append(diff_col)\n",
    "\n",
    "    target_df = target_df.sort_values('ori_idx').reset_index(drop=True)\n",
    "    target_df = target_df.drop('ori_idx', axis=1)\n",
    "\n",
    "    return target_df, shift_feat_cols"
   ]
  },
  {
   "cell_type": "code",
   "execution_count": 21,
   "metadata": {},
   "outputs": [],
   "source": [
    "\n",
    "use_cols = ['vEgo', 'aEgo', 'steeringAngleDeg', 'steeringTorque', 'brake',\n",
    "       'brakePressed', 'gas', 'gasPressed',  'leftBlinker',\n",
    "       'rightBlinker']\n",
    "\n",
    "use_cols += oof_feat_cols\n",
    "\n",
    "train_df, shift_feat_cols = make_shift_feature(train_df, use_cols)\n",
    "test_df, shift_feat_cols = make_shift_feature(test_df, use_cols)"
   ]
  },
  {
   "cell_type": "markdown",
   "metadata": {},
   "source": [
    "# feature block"
   ]
  },
  {
   "cell_type": "code",
   "execution_count": 22,
   "metadata": {},
   "outputs": [],
   "source": [
    "from sklearn.preprocessing import LabelEncoder\n",
    "import pandas as pd\n",
    "from typing import List\n",
    "\n",
    "class AbstractBaseBlock:\n",
    "    \"\"\"\n",
    "    https://www.guruguru.science/competitions/16/discussions/95b7f8ec-a741-444f-933a-94c33b9e66be/\n",
    "    \"\"\"\n",
    "\n",
    "    def __init__(self) -> None:\n",
    "        pass\n",
    "\n",
    "    def fit(self, input_df: pd.DataFrame, y=None) -> pd.DataFrame:\n",
    "        # return self.transform(input_df)\n",
    "        raise NotImplementedError()\n",
    "\n",
    "    def transform(self, input_df: pd.DataFrame) -> pd.DataFrame:\n",
    "        raise NotImplementedError()\n",
    "\n",
    "\n",
    "def run_block(input_df: pd.DataFrame, blocks: List[AbstractBaseBlock], is_fit):\n",
    "    output_df = pd.DataFrame()\n",
    "    for block in blocks:\n",
    "        name = block.__class__.__name__\n",
    "\n",
    "        if is_fit:\n",
    "            # print(f'fit: {name}')\n",
    "            _df = block.fit(input_df)\n",
    "        else:\n",
    "            # print(f'transform: {name}')\n",
    "            _df = block.transform(input_df)\n",
    "\n",
    "        # print(f'concat: {name}')\n",
    "        output_df = pd.concat([output_df, _df], axis=1)\n",
    "    return output_df\n",
    "\n",
    "class NumericBlock(AbstractBaseBlock):\n",
    "    def __init__(self, col: str) -> None:\n",
    "        super().__init__()\n",
    "        self.col = col\n",
    "\n",
    "    def fit(self, input_df):\n",
    "        return self.transform(input_df)\n",
    "\n",
    "    def transform(self, input_df):\n",
    "        output_df = pd.DataFrame()\n",
    "        output_df[self.col] = input_df[self.col].copy()\n",
    "        return output_df\n",
    "\n",
    "class LabelEncodingBlock(AbstractBaseBlock):\n",
    "    def __init__(self, col: str) -> None:\n",
    "        super().__init__()\n",
    "        self.col = col\n",
    "        self.encoder = LabelEncoder()\n",
    "\n",
    "    def fit(self, input_df):\n",
    "        # return self.transform(input_df)\n",
    "\n",
    "        self.encoder.fit(input_df[self.col])\n",
    "        return self.transform(input_df)\n",
    "\n",
    "    def transform(self, input_df):\n",
    "        output_df = pd.DataFrame()\n",
    "\n",
    "        # output_df[self.col] = self.encoder.fit_transform(input_df[self.col])\n",
    "\n",
    "        # self.encoder.fit(input_df[self.col])\n",
    "        output_df[self.col] = self.encoder.transform(input_df[self.col])\n",
    "        return output_df.add_suffix('@le')\n",
    "\n",
    "class CountEncodingBlock(AbstractBaseBlock):\n",
    "    def __init__(self, col: str) -> None:\n",
    "        super().__init__()\n",
    "        self.col = col\n",
    "\n",
    "    def fit(self, input_df):\n",
    "        self.val_count_dict = {}\n",
    "        self.val_count = input_df[self.col].value_counts()\n",
    "        return self.transform(input_df)\n",
    "\n",
    "    def transform(self, input_df):\n",
    "        output_df = pd.DataFrame()\n",
    "        output_df[self.col] = input_df[self.col].map(self.val_count)\n",
    "        return output_df.add_suffix('@ce')"
   ]
  },
  {
   "cell_type": "markdown",
   "metadata": {},
   "source": [
    "# make feature"
   ]
  },
  {
   "cell_type": "code",
   "execution_count": 23,
   "metadata": {},
   "outputs": [
    {
     "name": "stdout",
     "output_type": "stream",
     "text": [
      "use_col len 143\n"
     ]
    }
   ],
   "source": [
    "# ======= train_df, test_df 共通の処理 =======\n",
    "\n",
    "num_cols = ['vEgo', 'aEgo', 'steeringAngleDeg', 'steeringTorque', 'brake',\n",
    "       'brakePressed', 'gas', 'gasPressed',  'leftBlinker',\n",
    "       'rightBlinker']\n",
    "num_cols += ['scene_sec']\n",
    "num_cols += oof_feat_cols\n",
    "num_cols += shift_feat_cols\n",
    "num_cols += ['scene_count']\n",
    "\n",
    "agg_num_cols = ['vEgo', 'aEgo', 'steeringAngleDeg', 'steeringTorque', 'brake', 'gas']\n",
    "\n",
    "cat_label_cols = ['gearShifter']\n",
    "cat_count_cols = []\n",
    "cat_te_cols = []\n",
    "\n",
    "train_num = len(train_df)\n",
    "whole_df = pd.concat([train_df, test_df], axis=0, ignore_index=True)\n",
    "\n",
    "blocks = [\n",
    "    *[NumericBlock(col) for col in num_cols],\n",
    "    *[LabelEncodingBlock(col) for col in cat_label_cols],\n",
    "    *[CountEncodingBlock(col) for col in cat_count_cols],\n",
    "    # *[AggBlock(col, target_cols=agg_num_cols,\n",
    "    #            agg_cols=['mean', 'max', 'min', 'std']) for col in ['scene']],\n",
    "]\n",
    "whole_feat_df = run_block(whole_df, blocks, is_fit=True)\n",
    "\n",
    "# ======= train_df, test_df 別々に処理 =======\n",
    "\n",
    "train_df, test_df = whole_df.iloc[:train_num], whole_df.iloc[train_num:].drop(\n",
    "    columns=CFG.target_col).reset_index(drop=True)\n",
    "train_feat, test_feat = whole_feat_df.iloc[:train_num], whole_feat_df.iloc[train_num:].reset_index(\n",
    "    drop=True)\n",
    "\n",
    "blocks = [\n",
    "    # *[TargetEncodingBlock(col, CFG.target_col) for col in cat_te_cols]\n",
    "]\n",
    "\n",
    "_df = run_block(train_df, blocks, is_fit=True)\n",
    "train_feat = pd.concat([train_feat, _df], axis=1)\n",
    "_df = run_block(test_df, blocks, is_fit=False)\n",
    "test_feat = pd.concat([test_feat, _df], axis=1)\n",
    "\n",
    "print('use_col len', len(train_feat.columns))"
   ]
  },
  {
   "cell_type": "code",
   "execution_count": 24,
   "metadata": {},
   "outputs": [],
   "source": [
    "y = train_df[CFG.target_col]\n",
    "folds = train_df['fold']"
   ]
  },
  {
   "cell_type": "code",
   "execution_count": 25,
   "metadata": {},
   "outputs": [
    {
     "data": {
      "text/plain": [
       "((43371, 143), (1727, 143))"
      ]
     },
     "execution_count": 25,
     "metadata": {},
     "output_type": "execute_result"
    }
   ],
   "source": [
    "train_feat.shape, test_feat.shape"
   ]
  },
  {
   "cell_type": "code",
   "execution_count": 26,
   "metadata": {},
   "outputs": [
    {
     "name": "stdout",
     "output_type": "stream",
     "text": [
      "vEgo                                   0\n",
      "aEgo                                   0\n",
      "steeringAngleDeg                       0\n",
      "steeringTorque                         0\n",
      "brake                                  0\n",
      "                                    ... \n",
      "atmacup_18_cnn_exp001_y_5_diff1     9053\n",
      "atmacup_18_cnn_exp001_z_5_shift1    9053\n",
      "atmacup_18_cnn_exp001_z_5_diff1     9053\n",
      "scene_count                            0\n",
      "gearShifter@le                         0\n",
      "Length: 143, dtype: int64\n"
     ]
    }
   ],
   "source": [
    "train_null_df = train_feat.isnull().sum()\n",
    "print(train_null_df)\n",
    "train_null_df.to_csv(CFG.outputs_path + 'train_null.csv')"
   ]
  },
  {
   "cell_type": "code",
   "execution_count": 27,
   "metadata": {},
   "outputs": [
    {
     "name": "stdout",
     "output_type": "stream",
     "text": [
      "vEgo                                  0\n",
      "aEgo                                  0\n",
      "steeringAngleDeg                      0\n",
      "steeringTorque                        0\n",
      "brake                                 0\n",
      "                                   ... \n",
      "atmacup_18_cnn_exp001_y_5_diff1     468\n",
      "atmacup_18_cnn_exp001_z_5_shift1    468\n",
      "atmacup_18_cnn_exp001_z_5_diff1     468\n",
      "scene_count                           0\n",
      "gearShifter@le                        0\n",
      "Length: 143, dtype: int64\n"
     ]
    }
   ],
   "source": [
    "test_null_df = test_feat.isnull().sum()\n",
    "print(test_null_df)\n",
    "test_null_df.to_csv(CFG.outputs_path + 'test_null.csv')"
   ]
  },
  {
   "cell_type": "markdown",
   "metadata": {},
   "source": [
    "# model"
   ]
  },
  {
   "cell_type": "code",
   "execution_count": 28,
   "metadata": {},
   "outputs": [],
   "source": [
    "import lightgbm as lgb\n",
    "\n",
    "class LightGBM:\n",
    "\n",
    "    def __init__(self, lgb_params, save_dir=None, imp_dir=None, categorical_feature=None,\n",
    "                 model_name='lgb',\n",
    "                 stopping_rounds=50) -> None:\n",
    "        self.save_dir = save_dir\n",
    "        self.imp_dir = imp_dir\n",
    "        self.lgb_params = lgb_params\n",
    "        self.categorical_feature = categorical_feature\n",
    "\n",
    "        # saveの切り替え用\n",
    "        self.model_name = model_name\n",
    "\n",
    "        self.stopping_rounds = stopping_rounds\n",
    "\n",
    "    def fit(self, x_train, y_train, **fit_params) -> None:\n",
    "\n",
    "        X_val, y_val = fit_params['eval_set'][0]\n",
    "        del fit_params['eval_set']\n",
    "\n",
    "        train_dataset = lgb.Dataset(\n",
    "            x_train, y_train, categorical_feature=self.categorical_feature)\n",
    "\n",
    "        val_dataset = lgb.Dataset(\n",
    "            X_val, y_val, categorical_feature=self.categorical_feature)\n",
    "\n",
    "        self.model = lgb.train(params=self.lgb_params,\n",
    "                               train_set=train_dataset,\n",
    "                               valid_sets=[train_dataset, val_dataset],\n",
    "                               callbacks=[lgb.early_stopping(stopping_rounds=self.stopping_rounds,\n",
    "                                                             verbose=True),\n",
    "                                          lgb.log_evaluation(500)],\n",
    "                               **fit_params\n",
    "                               )\n",
    "\n",
    "    def save(self, fold):\n",
    "        save_to = f'{self.save_dir}lgb_fold_{fold}_{self.model_name}.txt'\n",
    "        self.model.save_model(save_to)\n",
    "\n",
    "    def predict(self, x):\n",
    "        return self.model.predict(x)\n",
    "\n",
    "    def predict_proba(self, x):\n",
    "        return self.model.predict_proba(x)\n",
    "    \n",
    "def get_model(model_name):\n",
    "    lgb_params = {'objective': CFG.objective_cv, 'boosting_type': 'gbdt', 'verbose': -1,\n",
    "                'n_jobs': 8, 'seed': CFG.seed, 'learning_rate': 0.01,\n",
    "                # 'num_class': CFG.num_class, # multiclassなら必要\n",
    "                'metric': 'mae',\n",
    "                'num_leaves': 64,\n",
    "                'max_depth': 5,\n",
    "                'bagging_seed': CFG.seed,\n",
    "                'feature_fraction_seed': CFG.seed,\n",
    "                'drop_seed': CFG.seed,\n",
    "                }\n",
    "    model = LightGBM(lgb_params=lgb_params,\n",
    "                    imp_dir=CFG.figures_dir, save_dir=CFG.model_dir,\n",
    "                    model_name=model_name)\n",
    "\n",
    "    return model\n",
    "\n",
    "def get_fit_params(model_name):\n",
    "    params = {\n",
    "        'num_boost_round': 100000\n",
    "    }\n",
    "\n",
    "    return params\n"
   ]
  },
  {
   "cell_type": "markdown",
   "metadata": {},
   "source": [
    "# main"
   ]
  },
  {
   "cell_type": "code",
   "execution_count": 29,
   "metadata": {},
   "outputs": [],
   "source": [
    "def main(train_df, X_train, y, folds, test_df):\n",
    "    eval_func = eval(CFG.metrics)\n",
    "\n",
    "    oof_predictions = np.zeros((X_train.shape[0], CFG.target_size))\n",
    "    test_predictions = np.zeros((test_df.shape[0], CFG.target_size))\n",
    "\n",
    "    for target_idx in range(CFG.target_size):\n",
    "        Logger.info(f'target {target_idx}')\n",
    "\n",
    "        for fold in range(CFG.n_fold):\n",
    "            Logger.info(f'Training fold {fold + 1}')\n",
    "            target_col = CFG.target_col[target_idx]\n",
    "\n",
    "            model_name = f'lgb_{target_col}'\n",
    "            model = get_model(model_name)\n",
    "            fit_params = get_fit_params(model_name)\n",
    "\n",
    "            trn_ind = folds != fold\n",
    "            val_ind = folds == fold\n",
    "\n",
    "            x_train, x_val = X_train.loc[trn_ind], X_train.loc[val_ind]\n",
    "            y_train, y_val = y.loc[trn_ind, target_col], y.loc[val_ind, target_col]\n",
    "            eval_set = [(x_val, y_val)]\n",
    "\n",
    "            fit_params_fold = fit_params.copy()\n",
    "            fit_params_fold['eval_set'] = eval_set\n",
    "\n",
    "            model.fit(x_train, y_train, **fit_params_fold)\n",
    "\n",
    "            if hasattr(model, 'save'):\n",
    "                model.save(fold)\n",
    "            if hasattr(model, 'plot_importance'):\n",
    "                model.plot_importance(fold)\n",
    "\n",
    "            oof_predictions[val_ind, target_idx] = model.predict(x_val)\n",
    "\n",
    "            test_predictions[:, target_idx] += model.predict(test_df)\n",
    "\n",
    "    score = eval_func(y.values, oof_predictions)\n",
    "    Logger.info(f'oof result {score}')\n",
    "\n",
    "    # model.plot_importance_all(n_fold=CFG.n_fold)\n",
    "\n",
    "    pred_cols = [f'pred_{i}' for i in range(CFG.target_size)]\n",
    "\n",
    "    oof = train_df.copy()\n",
    "    oof[pred_cols] = oof_predictions\n",
    "    oof[CFG.target_col] = y\n",
    "\n",
    "    oof_feat = X_train.copy()\n",
    "    oof_feat[pred_cols] = oof_predictions\n",
    "    oof_feat[CFG.target_col] = y\n",
    "\n",
    "    get_result(oof)\n",
    "\n",
    "    # save\n",
    "    oof.to_csv(CFG.submission_dir + 'oof_gbdt.csv', index=False)\n",
    "    oof_feat.to_csv(CFG.submission_dir + 'oof_feat_gbdt.csv', index=False)\n",
    "\n",
    "    test_predictions /= CFG.n_fold\n",
    "\n",
    "    test_df[CFG.target_col] = test_predictions\n",
    "    test_df.to_csv(CFG.submission_dir +\n",
    "                'submission_oof.csv', index=False)\n",
    "    test_df[CFG.target_col].to_csv(\n",
    "        CFG.submission_dir + f'submission_{CFG.exp_name}.csv', index=False)\n",
    "\n",
    "    sample_sub = pd.read_csv(CFG.comp_dataset_path + 'atmaCup18__sample_submit.csv')\n",
    "    print('sample_sub_len: ', len(sample_sub))\n",
    "    print('sub_len: ', len(test_df))"
   ]
  },
  {
   "cell_type": "code",
   "execution_count": 30,
   "metadata": {},
   "outputs": [
    {
     "name": "stderr",
     "output_type": "stream",
     "text": [
      "target 0\n",
      "Training fold 1\n"
     ]
    },
    {
     "name": "stdout",
     "output_type": "stream",
     "text": [
      "Training until validation scores don't improve for 50 rounds\n",
      "[500]\ttraining's l1: 0.0647962\tvalid_1's l1: 0.0675039\n",
      "[1000]\ttraining's l1: 0.0584528\tvalid_1's l1: 0.0630486\n"
     ]
    },
    {
     "name": "stderr",
     "output_type": "stream",
     "text": [
      "Training fold 2\n"
     ]
    },
    {
     "name": "stdout",
     "output_type": "stream",
     "text": [
      "Early stopping, best iteration is:\n",
      "[995]\ttraining's l1: 0.0584692\tvalid_1's l1: 0.0630448\n",
      "Training until validation scores don't improve for 50 rounds\n",
      "[500]\ttraining's l1: 0.0651447\tvalid_1's l1: 0.0660029\n"
     ]
    },
    {
     "name": "stderr",
     "output_type": "stream",
     "text": [
      "Training fold 3\n"
     ]
    },
    {
     "name": "stdout",
     "output_type": "stream",
     "text": [
      "Early stopping, best iteration is:\n",
      "[836]\ttraining's l1: 0.0592076\tvalid_1's l1: 0.0619491\n",
      "Training until validation scores don't improve for 50 rounds\n",
      "[500]\ttraining's l1: 0.0655111\tvalid_1's l1: 0.066237\n",
      "[1000]\ttraining's l1: 0.0589799\tvalid_1's l1: 0.0617656\n"
     ]
    },
    {
     "name": "stderr",
     "output_type": "stream",
     "text": [
      "Training fold 4\n"
     ]
    },
    {
     "name": "stdout",
     "output_type": "stream",
     "text": [
      "Early stopping, best iteration is:\n",
      "[1061]\ttraining's l1: 0.0587716\tvalid_1's l1: 0.0617328\n",
      "Training until validation scores don't improve for 50 rounds\n",
      "[500]\ttraining's l1: 0.0646152\tvalid_1's l1: 0.0685511\n",
      "[1000]\ttraining's l1: 0.0580636\tvalid_1's l1: 0.0639273\n"
     ]
    },
    {
     "name": "stderr",
     "output_type": "stream",
     "text": [
      "Training fold 5\n"
     ]
    },
    {
     "name": "stdout",
     "output_type": "stream",
     "text": [
      "Early stopping, best iteration is:\n",
      "[1146]\ttraining's l1: 0.0575961\tvalid_1's l1: 0.0638877\n",
      "Training until validation scores don't improve for 50 rounds\n",
      "[500]\ttraining's l1: 0.0650854\tvalid_1's l1: 0.0660281\n",
      "[1000]\ttraining's l1: 0.0586626\tvalid_1's l1: 0.0616026\n",
      "Early stopping, best iteration is:\n",
      "[1150]\ttraining's l1: 0.0581211\tvalid_1's l1: 0.0615679\n"
     ]
    },
    {
     "name": "stderr",
     "output_type": "stream",
     "text": [
      "target 1\n",
      "Training fold 1\n"
     ]
    },
    {
     "name": "stdout",
     "output_type": "stream",
     "text": [
      "Training until validation scores don't improve for 50 rounds\n",
      "[500]\ttraining's l1: 0.0307528\tvalid_1's l1: 0.0335122\n",
      "[1000]\ttraining's l1: 0.0298557\tvalid_1's l1: 0.0333412\n",
      "[1500]\ttraining's l1: 0.0291809\tvalid_1's l1: 0.0332854\n",
      "Early stopping, best iteration is:\n",
      "[1482]\ttraining's l1: 0.0292034\tvalid_1's l1: 0.033283\n"
     ]
    },
    {
     "name": "stderr",
     "output_type": "stream",
     "text": [
      "Training fold 2\n"
     ]
    },
    {
     "name": "stdout",
     "output_type": "stream",
     "text": [
      "Training until validation scores don't improve for 50 rounds\n",
      "[500]\ttraining's l1: 0.031205\tvalid_1's l1: 0.0320547\n"
     ]
    },
    {
     "name": "stderr",
     "output_type": "stream",
     "text": [
      "Training fold 3\n"
     ]
    },
    {
     "name": "stdout",
     "output_type": "stream",
     "text": [
      "Early stopping, best iteration is:\n",
      "[613]\ttraining's l1: 0.030939\tvalid_1's l1: 0.0320108\n",
      "Training until validation scores don't improve for 50 rounds\n",
      "[500]\ttraining's l1: 0.0313697\tvalid_1's l1: 0.0321153\n",
      "[1000]\ttraining's l1: 0.0304883\tvalid_1's l1: 0.0319796\n"
     ]
    },
    {
     "name": "stderr",
     "output_type": "stream",
     "text": [
      "Training fold 4\n"
     ]
    },
    {
     "name": "stdout",
     "output_type": "stream",
     "text": [
      "Early stopping, best iteration is:\n",
      "[1099]\ttraining's l1: 0.0303253\tvalid_1's l1: 0.0319497\n",
      "Training until validation scores don't improve for 50 rounds\n",
      "[500]\ttraining's l1: 0.0310211\tvalid_1's l1: 0.032711\n"
     ]
    },
    {
     "name": "stderr",
     "output_type": "stream",
     "text": [
      "Training fold 5\n"
     ]
    },
    {
     "name": "stdout",
     "output_type": "stream",
     "text": [
      "Early stopping, best iteration is:\n",
      "[849]\ttraining's l1: 0.030323\tvalid_1's l1: 0.0325718\n",
      "Training until validation scores don't improve for 50 rounds\n",
      "[500]\ttraining's l1: 0.0312102\tvalid_1's l1: 0.0325133\n"
     ]
    },
    {
     "name": "stderr",
     "output_type": "stream",
     "text": [
      "target 2\n",
      "Training fold 1\n"
     ]
    },
    {
     "name": "stdout",
     "output_type": "stream",
     "text": [
      "Early stopping, best iteration is:\n",
      "[786]\ttraining's l1: 0.0306013\tvalid_1's l1: 0.0324087\n",
      "Training until validation scores don't improve for 50 rounds\n"
     ]
    },
    {
     "name": "stderr",
     "output_type": "stream",
     "text": [
      "Training fold 2\n"
     ]
    },
    {
     "name": "stdout",
     "output_type": "stream",
     "text": [
      "Early stopping, best iteration is:\n",
      "[312]\ttraining's l1: 0.0248026\tvalid_1's l1: 0.0258205\n",
      "Training until validation scores don't improve for 50 rounds\n"
     ]
    },
    {
     "name": "stderr",
     "output_type": "stream",
     "text": [
      "Training fold 3\n"
     ]
    },
    {
     "name": "stdout",
     "output_type": "stream",
     "text": [
      "[500]\ttraining's l1: 0.0247808\tvalid_1's l1: 0.024924\n",
      "Early stopping, best iteration is:\n",
      "[453]\ttraining's l1: 0.0248441\tvalid_1's l1: 0.0249223\n",
      "Training until validation scores don't improve for 50 rounds\n"
     ]
    },
    {
     "name": "stderr",
     "output_type": "stream",
     "text": [
      "Training fold 4\n"
     ]
    },
    {
     "name": "stdout",
     "output_type": "stream",
     "text": [
      "Early stopping, best iteration is:\n",
      "[436]\ttraining's l1: 0.0247631\tvalid_1's l1: 0.0254238\n",
      "Training until validation scores don't improve for 50 rounds\n"
     ]
    },
    {
     "name": "stderr",
     "output_type": "stream",
     "text": [
      "Training fold 5\n"
     ]
    },
    {
     "name": "stdout",
     "output_type": "stream",
     "text": [
      "Early stopping, best iteration is:\n",
      "[408]\ttraining's l1: 0.024789\tvalid_1's l1: 0.0254278\n",
      "Training until validation scores don't improve for 50 rounds\n"
     ]
    },
    {
     "name": "stderr",
     "output_type": "stream",
     "text": [
      "target 3\n",
      "Training fold 1\n"
     ]
    },
    {
     "name": "stdout",
     "output_type": "stream",
     "text": [
      "Early stopping, best iteration is:\n",
      "[370]\ttraining's l1: 0.0247591\tvalid_1's l1: 0.0257876\n",
      "Training until validation scores don't improve for 50 rounds\n",
      "[500]\ttraining's l1: 0.139099\tvalid_1's l1: 0.147142\n",
      "[1000]\ttraining's l1: 0.123341\tvalid_1's l1: 0.135404\n",
      "Early stopping, best iteration is:\n",
      "[1438]\ttraining's l1: 0.119996\tvalid_1's l1: 0.1349\n"
     ]
    },
    {
     "name": "stderr",
     "output_type": "stream",
     "text": [
      "Training fold 2\n"
     ]
    },
    {
     "name": "stdout",
     "output_type": "stream",
     "text": [
      "Training until validation scores don't improve for 50 rounds\n",
      "[500]\ttraining's l1: 0.14006\tvalid_1's l1: 0.142611\n",
      "[1000]\ttraining's l1: 0.124023\tvalid_1's l1: 0.131255\n",
      "[1500]\ttraining's l1: 0.120256\tvalid_1's l1: 0.130679\n",
      "Early stopping, best iteration is:\n",
      "[1742]\ttraining's l1: 0.11863\tvalid_1's l1: 0.130576\n"
     ]
    },
    {
     "name": "stderr",
     "output_type": "stream",
     "text": [
      "Training fold 3\n"
     ]
    },
    {
     "name": "stdout",
     "output_type": "stream",
     "text": [
      "Training until validation scores don't improve for 50 rounds\n",
      "[500]\ttraining's l1: 0.140322\tvalid_1's l1: 0.144034\n",
      "[1000]\ttraining's l1: 0.124308\tvalid_1's l1: 0.132035\n",
      "[1500]\ttraining's l1: 0.120379\tvalid_1's l1: 0.131266\n",
      "[2000]\ttraining's l1: 0.117134\tvalid_1's l1: 0.131001\n",
      "Early stopping, best iteration is:\n",
      "[1980]\ttraining's l1: 0.117253\tvalid_1's l1: 0.130997\n"
     ]
    },
    {
     "name": "stderr",
     "output_type": "stream",
     "text": [
      "Training fold 4\n"
     ]
    },
    {
     "name": "stdout",
     "output_type": "stream",
     "text": [
      "Training until validation scores don't improve for 50 rounds\n",
      "[500]\ttraining's l1: 0.138849\tvalid_1's l1: 0.147661\n",
      "[1000]\ttraining's l1: 0.122926\tvalid_1's l1: 0.135344\n",
      "[1500]\ttraining's l1: 0.119111\tvalid_1's l1: 0.134571\n",
      "Early stopping, best iteration is:\n",
      "[1749]\ttraining's l1: 0.117531\tvalid_1's l1: 0.13436\n"
     ]
    },
    {
     "name": "stderr",
     "output_type": "stream",
     "text": [
      "Training fold 5\n"
     ]
    },
    {
     "name": "stdout",
     "output_type": "stream",
     "text": [
      "Training until validation scores don't improve for 50 rounds\n",
      "[500]\ttraining's l1: 0.139763\tvalid_1's l1: 0.143653\n",
      "[1000]\ttraining's l1: 0.12401\tvalid_1's l1: 0.131692\n",
      "[1500]\ttraining's l1: 0.120217\tvalid_1's l1: 0.131255\n",
      "Early stopping, best iteration is:\n",
      "[1718]\ttraining's l1: 0.118774\tvalid_1's l1: 0.131156\n"
     ]
    },
    {
     "name": "stderr",
     "output_type": "stream",
     "text": [
      "target 4\n",
      "Training fold 1\n"
     ]
    },
    {
     "name": "stdout",
     "output_type": "stream",
     "text": [
      "Training until validation scores don't improve for 50 rounds\n",
      "[500]\ttraining's l1: 0.0697009\tvalid_1's l1: 0.0768708\n",
      "[1000]\ttraining's l1: 0.06641\tvalid_1's l1: 0.0754052\n",
      "[1500]\ttraining's l1: 0.06426\tvalid_1's l1: 0.0747846\n",
      "[2000]\ttraining's l1: 0.0623026\tvalid_1's l1: 0.0742608\n",
      "[2500]\ttraining's l1: 0.0606173\tvalid_1's l1: 0.0738497\n",
      "[3000]\ttraining's l1: 0.0590158\tvalid_1's l1: 0.073453\n",
      "[3500]\ttraining's l1: 0.05758\tvalid_1's l1: 0.0732666\n",
      "Early stopping, best iteration is:\n",
      "[3457]\ttraining's l1: 0.057692\tvalid_1's l1: 0.0732586\n"
     ]
    },
    {
     "name": "stderr",
     "output_type": "stream",
     "text": [
      "Training fold 2\n"
     ]
    },
    {
     "name": "stdout",
     "output_type": "stream",
     "text": [
      "Training until validation scores don't improve for 50 rounds\n",
      "[500]\ttraining's l1: 0.0709404\tvalid_1's l1: 0.0733247\n",
      "[1000]\ttraining's l1: 0.0673778\tvalid_1's l1: 0.0718827\n",
      "[1500]\ttraining's l1: 0.0648203\tvalid_1's l1: 0.071229\n",
      "Early stopping, best iteration is:\n",
      "[1937]\ttraining's l1: 0.0630492\tvalid_1's l1: 0.070842\n"
     ]
    },
    {
     "name": "stderr",
     "output_type": "stream",
     "text": [
      "Training fold 3\n"
     ]
    },
    {
     "name": "stdout",
     "output_type": "stream",
     "text": [
      "Training until validation scores don't improve for 50 rounds\n",
      "[500]\ttraining's l1: 0.0708557\tvalid_1's l1: 0.0740913\n",
      "[1000]\ttraining's l1: 0.06745\tvalid_1's l1: 0.0728528\n",
      "[1500]\ttraining's l1: 0.0653999\tvalid_1's l1: 0.0724308\n",
      "[2000]\ttraining's l1: 0.0633679\tvalid_1's l1: 0.0719343\n",
      "[2500]\ttraining's l1: 0.0614354\tvalid_1's l1: 0.0714813\n",
      "Early stopping, best iteration is:\n",
      "[2864]\ttraining's l1: 0.060212\tvalid_1's l1: 0.0713083\n"
     ]
    },
    {
     "name": "stderr",
     "output_type": "stream",
     "text": [
      "Training fold 4\n"
     ]
    },
    {
     "name": "stdout",
     "output_type": "stream",
     "text": [
      "Training until validation scores don't improve for 50 rounds\n",
      "[500]\ttraining's l1: 0.070659\tvalid_1's l1: 0.0748024\n",
      "[1000]\ttraining's l1: 0.0676409\tvalid_1's l1: 0.073725\n",
      "[1500]\ttraining's l1: 0.0651635\tvalid_1's l1: 0.0729345\n",
      "[2000]\ttraining's l1: 0.0630178\tvalid_1's l1: 0.072399\n",
      "[2500]\ttraining's l1: 0.0612249\tvalid_1's l1: 0.0720968\n",
      "Early stopping, best iteration is:\n",
      "[2759]\ttraining's l1: 0.0603491\tvalid_1's l1: 0.0719135\n"
     ]
    },
    {
     "name": "stderr",
     "output_type": "stream",
     "text": [
      "Training fold 5\n"
     ]
    },
    {
     "name": "stdout",
     "output_type": "stream",
     "text": [
      "Training until validation scores don't improve for 50 rounds\n",
      "[500]\ttraining's l1: 0.0706007\tvalid_1's l1: 0.073934\n",
      "[1000]\ttraining's l1: 0.067276\tvalid_1's l1: 0.0726478\n",
      "[1500]\ttraining's l1: 0.0650345\tvalid_1's l1: 0.0721109\n",
      "[2000]\ttraining's l1: 0.0631273\tvalid_1's l1: 0.0716978\n",
      "[2500]\ttraining's l1: 0.0614115\tvalid_1's l1: 0.0713997\n",
      "Early stopping, best iteration is:\n",
      "[2752]\ttraining's l1: 0.0606788\tvalid_1's l1: 0.0713151\n"
     ]
    },
    {
     "name": "stderr",
     "output_type": "stream",
     "text": [
      "target 5\n",
      "Training fold 1\n"
     ]
    },
    {
     "name": "stdout",
     "output_type": "stream",
     "text": [
      "Training until validation scores don't improve for 50 rounds\n"
     ]
    },
    {
     "name": "stderr",
     "output_type": "stream",
     "text": [
      "Training fold 2\n"
     ]
    },
    {
     "name": "stdout",
     "output_type": "stream",
     "text": [
      "Early stopping, best iteration is:\n",
      "[398]\ttraining's l1: 0.0506415\tvalid_1's l1: 0.0533646\n",
      "Training until validation scores don't improve for 50 rounds\n",
      "[500]\ttraining's l1: 0.0509871\tvalid_1's l1: 0.0507925\n"
     ]
    },
    {
     "name": "stderr",
     "output_type": "stream",
     "text": [
      "Training fold 3\n"
     ]
    },
    {
     "name": "stdout",
     "output_type": "stream",
     "text": [
      "Early stopping, best iteration is:\n",
      "[631]\ttraining's l1: 0.0506082\tvalid_1's l1: 0.0507686\n",
      "Training until validation scores don't improve for 50 rounds\n",
      "[500]\ttraining's l1: 0.0505381\tvalid_1's l1: 0.0527289\n"
     ]
    },
    {
     "name": "stderr",
     "output_type": "stream",
     "text": [
      "Training fold 4\n"
     ]
    },
    {
     "name": "stdout",
     "output_type": "stream",
     "text": [
      "Early stopping, best iteration is:\n",
      "[529]\ttraining's l1: 0.0504591\tvalid_1's l1: 0.052723\n",
      "Training until validation scores don't improve for 50 rounds\n"
     ]
    },
    {
     "name": "stderr",
     "output_type": "stream",
     "text": [
      "Training fold 5\n"
     ]
    },
    {
     "name": "stdout",
     "output_type": "stream",
     "text": [
      "[500]\ttraining's l1: 0.0506639\tvalid_1's l1: 0.0523333\n",
      "Early stopping, best iteration is:\n",
      "[456]\ttraining's l1: 0.05078\tvalid_1's l1: 0.0523298\n",
      "Training until validation scores don't improve for 50 rounds\n",
      "[500]\ttraining's l1: 0.0505482\tvalid_1's l1: 0.0527871\n"
     ]
    },
    {
     "name": "stderr",
     "output_type": "stream",
     "text": [
      "target 6\n",
      "Training fold 1\n"
     ]
    },
    {
     "name": "stdout",
     "output_type": "stream",
     "text": [
      "Early stopping, best iteration is:\n",
      "[600]\ttraining's l1: 0.050299\tvalid_1's l1: 0.0527643\n",
      "Training until validation scores don't improve for 50 rounds\n",
      "[500]\ttraining's l1: 0.2368\tvalid_1's l1: 0.254116\n",
      "[1000]\ttraining's l1: 0.208604\tvalid_1's l1: 0.231945\n",
      "[1500]\ttraining's l1: 0.20122\tvalid_1's l1: 0.229866\n",
      "[2000]\ttraining's l1: 0.195432\tvalid_1's l1: 0.229337\n",
      "Early stopping, best iteration is:\n",
      "[2346]\ttraining's l1: 0.191815\tvalid_1's l1: 0.22897\n"
     ]
    },
    {
     "name": "stderr",
     "output_type": "stream",
     "text": [
      "Training fold 2\n"
     ]
    },
    {
     "name": "stdout",
     "output_type": "stream",
     "text": [
      "Training until validation scores don't improve for 50 rounds\n",
      "[500]\ttraining's l1: 0.238509\tvalid_1's l1: 0.244408\n",
      "[1000]\ttraining's l1: 0.210177\tvalid_1's l1: 0.224096\n",
      "[1500]\ttraining's l1: 0.202948\tvalid_1's l1: 0.222198\n",
      "[2000]\ttraining's l1: 0.19716\tvalid_1's l1: 0.22144\n",
      "Early stopping, best iteration is:\n",
      "[2418]\ttraining's l1: 0.192548\tvalid_1's l1: 0.221096\n"
     ]
    },
    {
     "name": "stderr",
     "output_type": "stream",
     "text": [
      "Training fold 3\n"
     ]
    },
    {
     "name": "stdout",
     "output_type": "stream",
     "text": [
      "Training until validation scores don't improve for 50 rounds\n",
      "[500]\ttraining's l1: 0.238716\tvalid_1's l1: 0.246593\n",
      "[1000]\ttraining's l1: 0.210715\tvalid_1's l1: 0.224971\n",
      "[1500]\ttraining's l1: 0.20308\tvalid_1's l1: 0.222515\n",
      "[2000]\ttraining's l1: 0.196945\tvalid_1's l1: 0.221713\n",
      "Early stopping, best iteration is:\n",
      "[1967]\ttraining's l1: 0.197313\tvalid_1's l1: 0.221703\n"
     ]
    },
    {
     "name": "stderr",
     "output_type": "stream",
     "text": [
      "Training fold 4\n"
     ]
    },
    {
     "name": "stdout",
     "output_type": "stream",
     "text": [
      "Training until validation scores don't improve for 50 rounds\n",
      "[500]\ttraining's l1: 0.237111\tvalid_1's l1: 0.252649\n",
      "[1000]\ttraining's l1: 0.208551\tvalid_1's l1: 0.230283\n",
      "[1500]\ttraining's l1: 0.201059\tvalid_1's l1: 0.228239\n",
      "[2000]\ttraining's l1: 0.195185\tvalid_1's l1: 0.227524\n",
      "[2500]\ttraining's l1: 0.189941\tvalid_1's l1: 0.227171\n",
      "Early stopping, best iteration is:\n",
      "[2560]\ttraining's l1: 0.189331\tvalid_1's l1: 0.227145\n"
     ]
    },
    {
     "name": "stderr",
     "output_type": "stream",
     "text": [
      "Training fold 5\n"
     ]
    },
    {
     "name": "stdout",
     "output_type": "stream",
     "text": [
      "Training until validation scores don't improve for 50 rounds\n",
      "[500]\ttraining's l1: 0.238013\tvalid_1's l1: 0.246713\n",
      "[1000]\ttraining's l1: 0.210014\tvalid_1's l1: 0.225567\n",
      "[1500]\ttraining's l1: 0.20232\tvalid_1's l1: 0.223792\n",
      "[2000]\ttraining's l1: 0.196368\tvalid_1's l1: 0.223262\n",
      "Early stopping, best iteration is:\n",
      "[2275]\ttraining's l1: 0.193496\tvalid_1's l1: 0.223079\n"
     ]
    },
    {
     "name": "stderr",
     "output_type": "stream",
     "text": [
      "target 7\n",
      "Training fold 1\n"
     ]
    },
    {
     "name": "stdout",
     "output_type": "stream",
     "text": [
      "Training until validation scores don't improve for 50 rounds\n",
      "[500]\ttraining's l1: 0.119591\tvalid_1's l1: 0.13303\n",
      "[1000]\ttraining's l1: 0.112822\tvalid_1's l1: 0.129693\n",
      "[1500]\ttraining's l1: 0.108857\tvalid_1's l1: 0.128277\n",
      "[2000]\ttraining's l1: 0.105249\tvalid_1's l1: 0.127044\n",
      "[2500]\ttraining's l1: 0.101887\tvalid_1's l1: 0.125988\n",
      "[3000]\ttraining's l1: 0.0989445\tvalid_1's l1: 0.125376\n",
      "[3500]\ttraining's l1: 0.0961493\tvalid_1's l1: 0.124705\n",
      "Early stopping, best iteration is:\n",
      "[3497]\ttraining's l1: 0.0961619\tvalid_1's l1: 0.124705\n"
     ]
    },
    {
     "name": "stderr",
     "output_type": "stream",
     "text": [
      "Training fold 2\n"
     ]
    },
    {
     "name": "stdout",
     "output_type": "stream",
     "text": [
      "Training until validation scores don't improve for 50 rounds\n",
      "[500]\ttraining's l1: 0.121484\tvalid_1's l1: 0.126018\n",
      "[1000]\ttraining's l1: 0.114597\tvalid_1's l1: 0.123028\n",
      "[1500]\ttraining's l1: 0.109956\tvalid_1's l1: 0.121533\n",
      "[2000]\ttraining's l1: 0.10605\tvalid_1's l1: 0.120509\n",
      "[2500]\ttraining's l1: 0.102644\tvalid_1's l1: 0.119839\n",
      "[3000]\ttraining's l1: 0.0999517\tvalid_1's l1: 0.119572\n",
      "Early stopping, best iteration is:\n",
      "[3026]\ttraining's l1: 0.0997995\tvalid_1's l1: 0.119554\n"
     ]
    },
    {
     "name": "stderr",
     "output_type": "stream",
     "text": [
      "Training fold 3\n"
     ]
    },
    {
     "name": "stdout",
     "output_type": "stream",
     "text": [
      "Training until validation scores don't improve for 50 rounds\n",
      "[500]\ttraining's l1: 0.121612\tvalid_1's l1: 0.128595\n",
      "[1000]\ttraining's l1: 0.114589\tvalid_1's l1: 0.1255\n",
      "[1500]\ttraining's l1: 0.110549\tvalid_1's l1: 0.124302\n",
      "[2000]\ttraining's l1: 0.106682\tvalid_1's l1: 0.123339\n",
      "[2500]\ttraining's l1: 0.102968\tvalid_1's l1: 0.122281\n",
      "[3000]\ttraining's l1: 0.0995773\tvalid_1's l1: 0.121353\n",
      "Early stopping, best iteration is:\n",
      "[3295]\ttraining's l1: 0.0979429\tvalid_1's l1: 0.121165\n"
     ]
    },
    {
     "name": "stderr",
     "output_type": "stream",
     "text": [
      "Training fold 4\n"
     ]
    },
    {
     "name": "stdout",
     "output_type": "stream",
     "text": [
      "Training until validation scores don't improve for 50 rounds\n",
      "[500]\ttraining's l1: 0.1214\tvalid_1's l1: 0.129209\n",
      "[1000]\ttraining's l1: 0.115035\tvalid_1's l1: 0.126449\n",
      "[1500]\ttraining's l1: 0.110516\tvalid_1's l1: 0.124671\n",
      "[2000]\ttraining's l1: 0.106509\tvalid_1's l1: 0.123195\n",
      "[2500]\ttraining's l1: 0.103044\tvalid_1's l1: 0.122092\n",
      "[3000]\ttraining's l1: 0.100104\tvalid_1's l1: 0.121504\n",
      "[3500]\ttraining's l1: 0.0974095\tvalid_1's l1: 0.121262\n",
      "Early stopping, best iteration is:\n",
      "[3897]\ttraining's l1: 0.0954584\tvalid_1's l1: 0.12115\n"
     ]
    },
    {
     "name": "stderr",
     "output_type": "stream",
     "text": [
      "Training fold 5\n"
     ]
    },
    {
     "name": "stdout",
     "output_type": "stream",
     "text": [
      "Training until validation scores don't improve for 50 rounds\n",
      "[500]\ttraining's l1: 0.121136\tvalid_1's l1: 0.12908\n",
      "[1000]\ttraining's l1: 0.114264\tvalid_1's l1: 0.12588\n",
      "[1500]\ttraining's l1: 0.109756\tvalid_1's l1: 0.124612\n",
      "[2000]\ttraining's l1: 0.105711\tvalid_1's l1: 0.123459\n",
      "[2500]\ttraining's l1: 0.102614\tvalid_1's l1: 0.122986\n",
      "[3000]\ttraining's l1: 0.0998787\tvalid_1's l1: 0.122808\n",
      "[3500]\ttraining's l1: 0.0974359\tvalid_1's l1: 0.122636\n",
      "Early stopping, best iteration is:\n",
      "[3491]\ttraining's l1: 0.0974771\tvalid_1's l1: 0.122629\n"
     ]
    },
    {
     "name": "stderr",
     "output_type": "stream",
     "text": [
      "target 8\n",
      "Training fold 1\n"
     ]
    },
    {
     "name": "stdout",
     "output_type": "stream",
     "text": [
      "Training until validation scores don't improve for 50 rounds\n",
      "[500]\ttraining's l1: 0.0765896\tvalid_1's l1: 0.0812627\n"
     ]
    },
    {
     "name": "stderr",
     "output_type": "stream",
     "text": [
      "Training fold 2\n"
     ]
    },
    {
     "name": "stdout",
     "output_type": "stream",
     "text": [
      "Early stopping, best iteration is:\n",
      "[512]\ttraining's l1: 0.0765298\tvalid_1's l1: 0.0812618\n",
      "Training until validation scores don't improve for 50 rounds\n",
      "[500]\ttraining's l1: 0.0774382\tvalid_1's l1: 0.0771882\n"
     ]
    },
    {
     "name": "stderr",
     "output_type": "stream",
     "text": [
      "Training fold 3\n"
     ]
    },
    {
     "name": "stdout",
     "output_type": "stream",
     "text": [
      "Early stopping, best iteration is:\n",
      "[675]\ttraining's l1: 0.0767347\tvalid_1's l1: 0.0771249\n",
      "Training until validation scores don't improve for 50 rounds\n",
      "[500]\ttraining's l1: 0.0766853\tvalid_1's l1: 0.080304\n"
     ]
    },
    {
     "name": "stderr",
     "output_type": "stream",
     "text": [
      "Training fold 4\n"
     ]
    },
    {
     "name": "stdout",
     "output_type": "stream",
     "text": [
      "Early stopping, best iteration is:\n",
      "[538]\ttraining's l1: 0.0765218\tvalid_1's l1: 0.0802953\n",
      "Training until validation scores don't improve for 50 rounds\n",
      "[500]\ttraining's l1: 0.0770087\tvalid_1's l1: 0.0794765\n"
     ]
    },
    {
     "name": "stderr",
     "output_type": "stream",
     "text": [
      "Training fold 5\n"
     ]
    },
    {
     "name": "stdout",
     "output_type": "stream",
     "text": [
      "Early stopping, best iteration is:\n",
      "[753]\ttraining's l1: 0.0760069\tvalid_1's l1: 0.0793857\n",
      "Training until validation scores don't improve for 50 rounds\n",
      "[500]\ttraining's l1: 0.0767029\tvalid_1's l1: 0.0805225\n"
     ]
    },
    {
     "name": "stderr",
     "output_type": "stream",
     "text": [
      "target 9\n",
      "Training fold 1\n"
     ]
    },
    {
     "name": "stdout",
     "output_type": "stream",
     "text": [
      "Early stopping, best iteration is:\n",
      "[589]\ttraining's l1: 0.076337\tvalid_1's l1: 0.0805081\n",
      "Training until validation scores don't improve for 50 rounds\n",
      "[500]\ttraining's l1: 0.367641\tvalid_1's l1: 0.398159\n",
      "[1000]\ttraining's l1: 0.324903\tvalid_1's l1: 0.363901\n",
      "[1500]\ttraining's l1: 0.312052\tvalid_1's l1: 0.358593\n",
      "[2000]\ttraining's l1: 0.302209\tvalid_1's l1: 0.35651\n",
      "[2500]\ttraining's l1: 0.293364\tvalid_1's l1: 0.355292\n",
      "[3000]\ttraining's l1: 0.285475\tvalid_1's l1: 0.35463\n",
      "Early stopping, best iteration is:\n",
      "[3089]\ttraining's l1: 0.284131\tvalid_1's l1: 0.35456\n"
     ]
    },
    {
     "name": "stderr",
     "output_type": "stream",
     "text": [
      "Training fold 2\n"
     ]
    },
    {
     "name": "stdout",
     "output_type": "stream",
     "text": [
      "Training until validation scores don't improve for 50 rounds\n",
      "[500]\ttraining's l1: 0.370246\tvalid_1's l1: 0.383249\n",
      "[1000]\ttraining's l1: 0.326469\tvalid_1's l1: 0.350031\n",
      "[1500]\ttraining's l1: 0.313544\tvalid_1's l1: 0.345686\n",
      "[2000]\ttraining's l1: 0.303809\tvalid_1's l1: 0.34407\n",
      "[2500]\ttraining's l1: 0.295115\tvalid_1's l1: 0.343421\n",
      "Early stopping, best iteration is:\n",
      "[2467]\ttraining's l1: 0.295635\tvalid_1's l1: 0.343396\n"
     ]
    },
    {
     "name": "stderr",
     "output_type": "stream",
     "text": [
      "Training fold 3\n"
     ]
    },
    {
     "name": "stdout",
     "output_type": "stream",
     "text": [
      "Training until validation scores don't improve for 50 rounds\n",
      "[500]\ttraining's l1: 0.371367\tvalid_1's l1: 0.386385\n",
      "[1000]\ttraining's l1: 0.327079\tvalid_1's l1: 0.350241\n",
      "[1500]\ttraining's l1: 0.313695\tvalid_1's l1: 0.345279\n",
      "[2000]\ttraining's l1: 0.303493\tvalid_1's l1: 0.343369\n",
      "[2500]\ttraining's l1: 0.294949\tvalid_1's l1: 0.342659\n",
      "[3000]\ttraining's l1: 0.286836\tvalid_1's l1: 0.342132\n",
      "Early stopping, best iteration is:\n",
      "[3262]\ttraining's l1: 0.282924\tvalid_1's l1: 0.341862\n"
     ]
    },
    {
     "name": "stderr",
     "output_type": "stream",
     "text": [
      "Training fold 4\n"
     ]
    },
    {
     "name": "stdout",
     "output_type": "stream",
     "text": [
      "Training until validation scores don't improve for 50 rounds\n",
      "[500]\ttraining's l1: 0.36949\tvalid_1's l1: 0.393841\n",
      "[1000]\ttraining's l1: 0.324515\tvalid_1's l1: 0.359933\n",
      "[1500]\ttraining's l1: 0.31204\tvalid_1's l1: 0.355729\n",
      "[2000]\ttraining's l1: 0.302319\tvalid_1's l1: 0.353953\n",
      "[2500]\ttraining's l1: 0.293545\tvalid_1's l1: 0.352863\n",
      "[3000]\ttraining's l1: 0.285495\tvalid_1's l1: 0.352113\n",
      "Early stopping, best iteration is:\n",
      "[2972]\ttraining's l1: 0.285914\tvalid_1's l1: 0.35209\n"
     ]
    },
    {
     "name": "stderr",
     "output_type": "stream",
     "text": [
      "Training fold 5\n"
     ]
    },
    {
     "name": "stdout",
     "output_type": "stream",
     "text": [
      "Training until validation scores don't improve for 50 rounds\n",
      "[500]\ttraining's l1: 0.371191\tvalid_1's l1: 0.383443\n",
      "[1000]\ttraining's l1: 0.326995\tvalid_1's l1: 0.350356\n",
      "[1500]\ttraining's l1: 0.314053\tvalid_1's l1: 0.34657\n",
      "[2000]\ttraining's l1: 0.304149\tvalid_1's l1: 0.344975\n",
      "[2500]\ttraining's l1: 0.295162\tvalid_1's l1: 0.344491\n",
      "Early stopping, best iteration is:\n",
      "[2456]\ttraining's l1: 0.295924\tvalid_1's l1: 0.34448\n"
     ]
    },
    {
     "name": "stderr",
     "output_type": "stream",
     "text": [
      "target 10\n",
      "Training fold 1\n"
     ]
    },
    {
     "name": "stdout",
     "output_type": "stream",
     "text": [
      "Training until validation scores don't improve for 50 rounds\n",
      "[500]\ttraining's l1: 0.187142\tvalid_1's l1: 0.206855\n",
      "[1000]\ttraining's l1: 0.176772\tvalid_1's l1: 0.202103\n",
      "[1500]\ttraining's l1: 0.170612\tvalid_1's l1: 0.200784\n",
      "[2000]\ttraining's l1: 0.16479\tvalid_1's l1: 0.199196\n",
      "[2500]\ttraining's l1: 0.159511\tvalid_1's l1: 0.197833\n",
      "[3000]\ttraining's l1: 0.154488\tvalid_1's l1: 0.196654\n",
      "[3500]\ttraining's l1: 0.150014\tvalid_1's l1: 0.196025\n",
      "[4000]\ttraining's l1: 0.145775\tvalid_1's l1: 0.195497\n",
      "[4500]\ttraining's l1: 0.142112\tvalid_1's l1: 0.195173\n",
      "Early stopping, best iteration is:\n",
      "[4804]\ttraining's l1: 0.139955\tvalid_1's l1: 0.195019\n"
     ]
    },
    {
     "name": "stderr",
     "output_type": "stream",
     "text": [
      "Training fold 2\n"
     ]
    },
    {
     "name": "stdout",
     "output_type": "stream",
     "text": [
      "Training until validation scores don't improve for 50 rounds\n",
      "[500]\ttraining's l1: 0.189172\tvalid_1's l1: 0.197713\n",
      "[1000]\ttraining's l1: 0.179051\tvalid_1's l1: 0.193675\n",
      "[1500]\ttraining's l1: 0.171982\tvalid_1's l1: 0.191786\n",
      "[2000]\ttraining's l1: 0.165973\tvalid_1's l1: 0.190715\n",
      "[2500]\ttraining's l1: 0.160437\tvalid_1's l1: 0.189681\n",
      "[3000]\ttraining's l1: 0.155882\tvalid_1's l1: 0.189157\n",
      "Early stopping, best iteration is:\n",
      "[3366]\ttraining's l1: 0.152884\tvalid_1's l1: 0.18894\n"
     ]
    },
    {
     "name": "stderr",
     "output_type": "stream",
     "text": [
      "Training fold 3\n"
     ]
    },
    {
     "name": "stdout",
     "output_type": "stream",
     "text": [
      "Training until validation scores don't improve for 50 rounds\n",
      "[500]\ttraining's l1: 0.189678\tvalid_1's l1: 0.203023\n",
      "[1000]\ttraining's l1: 0.179238\tvalid_1's l1: 0.19903\n",
      "[1500]\ttraining's l1: 0.172256\tvalid_1's l1: 0.197356\n",
      "[2000]\ttraining's l1: 0.166675\tvalid_1's l1: 0.196052\n",
      "[2500]\ttraining's l1: 0.161352\tvalid_1's l1: 0.195129\n",
      "[3000]\ttraining's l1: 0.15586\tvalid_1's l1: 0.19406\n",
      "[3500]\ttraining's l1: 0.151116\tvalid_1's l1: 0.193299\n",
      "[4000]\ttraining's l1: 0.147079\tvalid_1's l1: 0.192997\n",
      "Early stopping, best iteration is:\n",
      "[4298]\ttraining's l1: 0.144852\tvalid_1's l1: 0.192801\n"
     ]
    },
    {
     "name": "stderr",
     "output_type": "stream",
     "text": [
      "Training fold 4\n"
     ]
    },
    {
     "name": "stdout",
     "output_type": "stream",
     "text": [
      "Training until validation scores don't improve for 50 rounds\n",
      "[500]\ttraining's l1: 0.189092\tvalid_1's l1: 0.202534\n",
      "[1000]\ttraining's l1: 0.178581\tvalid_1's l1: 0.198582\n",
      "[1500]\ttraining's l1: 0.171534\tvalid_1's l1: 0.196518\n",
      "[2000]\ttraining's l1: 0.165398\tvalid_1's l1: 0.194872\n",
      "[2500]\ttraining's l1: 0.160089\tvalid_1's l1: 0.19379\n",
      "[3000]\ttraining's l1: 0.155157\tvalid_1's l1: 0.192829\n",
      "[3500]\ttraining's l1: 0.150811\tvalid_1's l1: 0.192392\n",
      "Early stopping, best iteration is:\n",
      "[3614]\ttraining's l1: 0.149806\tvalid_1's l1: 0.192248\n"
     ]
    },
    {
     "name": "stderr",
     "output_type": "stream",
     "text": [
      "Training fold 5\n"
     ]
    },
    {
     "name": "stdout",
     "output_type": "stream",
     "text": [
      "Training until validation scores don't improve for 50 rounds\n",
      "[500]\ttraining's l1: 0.188981\tvalid_1's l1: 0.203527\n",
      "[1000]\ttraining's l1: 0.177617\tvalid_1's l1: 0.19878\n",
      "[1500]\ttraining's l1: 0.170555\tvalid_1's l1: 0.197082\n",
      "[2000]\ttraining's l1: 0.164841\tvalid_1's l1: 0.196063\n",
      "[2500]\ttraining's l1: 0.159171\tvalid_1's l1: 0.194957\n",
      "[3000]\ttraining's l1: 0.154315\tvalid_1's l1: 0.194296\n",
      "Early stopping, best iteration is:\n",
      "[3361]\ttraining's l1: 0.151215\tvalid_1's l1: 0.194123\n"
     ]
    },
    {
     "name": "stderr",
     "output_type": "stream",
     "text": [
      "target 11\n",
      "Training fold 1\n"
     ]
    },
    {
     "name": "stdout",
     "output_type": "stream",
     "text": [
      "Training until validation scores don't improve for 50 rounds\n"
     ]
    },
    {
     "name": "stderr",
     "output_type": "stream",
     "text": [
      "Training fold 2\n"
     ]
    },
    {
     "name": "stdout",
     "output_type": "stream",
     "text": [
      "Early stopping, best iteration is:\n",
      "[373]\ttraining's l1: 0.104173\tvalid_1's l1: 0.110336\n",
      "Training until validation scores don't improve for 50 rounds\n",
      "[500]\ttraining's l1: 0.104562\tvalid_1's l1: 0.10411\n"
     ]
    },
    {
     "name": "stderr",
     "output_type": "stream",
     "text": [
      "Training fold 3\n"
     ]
    },
    {
     "name": "stdout",
     "output_type": "stream",
     "text": [
      "Early stopping, best iteration is:\n",
      "[714]\ttraining's l1: 0.103355\tvalid_1's l1: 0.104024\n",
      "Training until validation scores don't improve for 50 rounds\n",
      "[500]\ttraining's l1: 0.103697\tvalid_1's l1: 0.107782\n"
     ]
    },
    {
     "name": "stderr",
     "output_type": "stream",
     "text": [
      "Training fold 4\n"
     ]
    },
    {
     "name": "stdout",
     "output_type": "stream",
     "text": [
      "Early stopping, best iteration is:\n",
      "[839]\ttraining's l1: 0.101837\tvalid_1's l1: 0.107625\n",
      "Training until validation scores don't improve for 50 rounds\n",
      "[500]\ttraining's l1: 0.10394\tvalid_1's l1: 0.107311\n"
     ]
    },
    {
     "name": "stderr",
     "output_type": "stream",
     "text": [
      "Training fold 5\n"
     ]
    },
    {
     "name": "stdout",
     "output_type": "stream",
     "text": [
      "Early stopping, best iteration is:\n",
      "[605]\ttraining's l1: 0.103332\tvalid_1's l1: 0.107295\n",
      "Training until validation scores don't improve for 50 rounds\n",
      "[500]\ttraining's l1: 0.103467\tvalid_1's l1: 0.108781\n"
     ]
    },
    {
     "name": "stderr",
     "output_type": "stream",
     "text": [
      "target 12\n",
      "Training fold 1\n"
     ]
    },
    {
     "name": "stdout",
     "output_type": "stream",
     "text": [
      "Early stopping, best iteration is:\n",
      "[580]\ttraining's l1: 0.103006\tvalid_1's l1: 0.108756\n",
      "Training until validation scores don't improve for 50 rounds\n",
      "[500]\ttraining's l1: 0.531578\tvalid_1's l1: 0.576907\n",
      "[1000]\ttraining's l1: 0.469529\tvalid_1's l1: 0.529019\n",
      "[1500]\ttraining's l1: 0.448983\tvalid_1's l1: 0.519534\n",
      "[2000]\ttraining's l1: 0.433213\tvalid_1's l1: 0.515342\n",
      "[2500]\ttraining's l1: 0.420004\tvalid_1's l1: 0.512998\n",
      "[3000]\ttraining's l1: 0.407503\tvalid_1's l1: 0.51188\n",
      "Early stopping, best iteration is:\n",
      "[3011]\ttraining's l1: 0.407257\tvalid_1's l1: 0.511844\n"
     ]
    },
    {
     "name": "stderr",
     "output_type": "stream",
     "text": [
      "Training fold 2\n"
     ]
    },
    {
     "name": "stdout",
     "output_type": "stream",
     "text": [
      "Training until validation scores don't improve for 50 rounds\n",
      "[500]\ttraining's l1: 0.53632\tvalid_1's l1: 0.558027\n",
      "[1000]\ttraining's l1: 0.472032\tvalid_1's l1: 0.510273\n",
      "[1500]\ttraining's l1: 0.452618\tvalid_1's l1: 0.502303\n",
      "[2000]\ttraining's l1: 0.437327\tvalid_1's l1: 0.498751\n",
      "[2500]\ttraining's l1: 0.424116\tvalid_1's l1: 0.497236\n",
      "Early stopping, best iteration is:\n",
      "[2460]\ttraining's l1: 0.425052\tvalid_1's l1: 0.49722\n"
     ]
    },
    {
     "name": "stderr",
     "output_type": "stream",
     "text": [
      "Training fold 3\n"
     ]
    },
    {
     "name": "stdout",
     "output_type": "stream",
     "text": [
      "Training until validation scores don't improve for 50 rounds\n",
      "[500]\ttraining's l1: 0.536353\tvalid_1's l1: 0.559799\n",
      "[1000]\ttraining's l1: 0.472218\tvalid_1's l1: 0.506887\n",
      "[1500]\ttraining's l1: 0.452069\tvalid_1's l1: 0.497497\n",
      "[2000]\ttraining's l1: 0.436768\tvalid_1's l1: 0.493669\n",
      "[2500]\ttraining's l1: 0.423629\tvalid_1's l1: 0.491716\n",
      "[3000]\ttraining's l1: 0.411733\tvalid_1's l1: 0.490374\n",
      "Early stopping, best iteration is:\n",
      "[3095]\ttraining's l1: 0.409484\tvalid_1's l1: 0.49012\n"
     ]
    },
    {
     "name": "stderr",
     "output_type": "stream",
     "text": [
      "Training fold 4\n"
     ]
    },
    {
     "name": "stdout",
     "output_type": "stream",
     "text": [
      "Training until validation scores don't improve for 50 rounds\n",
      "[500]\ttraining's l1: 0.534167\tvalid_1's l1: 0.571323\n",
      "[1000]\ttraining's l1: 0.469772\tvalid_1's l1: 0.523881\n",
      "[1500]\ttraining's l1: 0.449637\tvalid_1's l1: 0.515621\n",
      "[2000]\ttraining's l1: 0.434533\tvalid_1's l1: 0.511907\n",
      "[2500]\ttraining's l1: 0.421161\tvalid_1's l1: 0.509511\n",
      "[3000]\ttraining's l1: 0.408338\tvalid_1's l1: 0.50794\n",
      "Early stopping, best iteration is:\n",
      "[3435]\ttraining's l1: 0.398258\tvalid_1's l1: 0.507291\n"
     ]
    },
    {
     "name": "stderr",
     "output_type": "stream",
     "text": [
      "Training fold 5\n"
     ]
    },
    {
     "name": "stdout",
     "output_type": "stream",
     "text": [
      "Training until validation scores don't improve for 50 rounds\n",
      "[500]\ttraining's l1: 0.537928\tvalid_1's l1: 0.55345\n",
      "[1000]\ttraining's l1: 0.472666\tvalid_1's l1: 0.504178\n",
      "[1500]\ttraining's l1: 0.451964\tvalid_1's l1: 0.495521\n",
      "[2000]\ttraining's l1: 0.43698\tvalid_1's l1: 0.492607\n",
      "[2500]\ttraining's l1: 0.424193\tvalid_1's l1: 0.491278\n",
      "Early stopping, best iteration is:\n",
      "[2531]\ttraining's l1: 0.423398\tvalid_1's l1: 0.49118\n"
     ]
    },
    {
     "name": "stderr",
     "output_type": "stream",
     "text": [
      "target 13\n",
      "Training fold 1\n"
     ]
    },
    {
     "name": "stdout",
     "output_type": "stream",
     "text": [
      "Training until validation scores don't improve for 50 rounds\n",
      "[500]\ttraining's l1: 0.276346\tvalid_1's l1: 0.304147\n",
      "[1000]\ttraining's l1: 0.260511\tvalid_1's l1: 0.298042\n",
      "[1500]\ttraining's l1: 0.250899\tvalid_1's l1: 0.295926\n",
      "[2000]\ttraining's l1: 0.242391\tvalid_1's l1: 0.294581\n",
      "[2500]\ttraining's l1: 0.234389\tvalid_1's l1: 0.293146\n",
      "Early stopping, best iteration is:\n",
      "[2828]\ttraining's l1: 0.229776\tvalid_1's l1: 0.292108\n"
     ]
    },
    {
     "name": "stderr",
     "output_type": "stream",
     "text": [
      "Training fold 2\n"
     ]
    },
    {
     "name": "stdout",
     "output_type": "stream",
     "text": [
      "Training until validation scores don't improve for 50 rounds\n",
      "[500]\ttraining's l1: 0.28004\tvalid_1's l1: 0.293611\n",
      "[1000]\ttraining's l1: 0.264057\tvalid_1's l1: 0.287148\n",
      "[1500]\ttraining's l1: 0.254132\tvalid_1's l1: 0.284964\n",
      "[2000]\ttraining's l1: 0.245323\tvalid_1's l1: 0.283275\n",
      "[2500]\ttraining's l1: 0.237694\tvalid_1's l1: 0.282219\n",
      "Early stopping, best iteration is:\n",
      "[2866]\ttraining's l1: 0.232765\tvalid_1's l1: 0.281634\n"
     ]
    },
    {
     "name": "stderr",
     "output_type": "stream",
     "text": [
      "Training fold 3\n"
     ]
    },
    {
     "name": "stdout",
     "output_type": "stream",
     "text": [
      "Training until validation scores don't improve for 50 rounds\n",
      "[500]\ttraining's l1: 0.279292\tvalid_1's l1: 0.30114\n",
      "[1000]\ttraining's l1: 0.263856\tvalid_1's l1: 0.294771\n",
      "[1500]\ttraining's l1: 0.253424\tvalid_1's l1: 0.292014\n",
      "[2000]\ttraining's l1: 0.244705\tvalid_1's l1: 0.290338\n",
      "[2500]\ttraining's l1: 0.236243\tvalid_1's l1: 0.289202\n",
      "[3000]\ttraining's l1: 0.228783\tvalid_1's l1: 0.288264\n",
      "[3500]\ttraining's l1: 0.22221\tvalid_1's l1: 0.28767\n",
      "Early stopping, best iteration is:\n",
      "[3460]\ttraining's l1: 0.222644\tvalid_1's l1: 0.287645\n"
     ]
    },
    {
     "name": "stderr",
     "output_type": "stream",
     "text": [
      "Training fold 4\n"
     ]
    },
    {
     "name": "stdout",
     "output_type": "stream",
     "text": [
      "Training until validation scores don't improve for 50 rounds\n",
      "[500]\ttraining's l1: 0.279233\tvalid_1's l1: 0.300908\n",
      "[1000]\ttraining's l1: 0.26256\tvalid_1's l1: 0.29494\n",
      "[1500]\ttraining's l1: 0.251954\tvalid_1's l1: 0.29232\n",
      "[2000]\ttraining's l1: 0.243139\tvalid_1's l1: 0.290782\n",
      "[2500]\ttraining's l1: 0.235336\tvalid_1's l1: 0.289405\n",
      "[3000]\ttraining's l1: 0.228872\tvalid_1's l1: 0.288657\n",
      "[3500]\ttraining's l1: 0.222574\tvalid_1's l1: 0.287971\n",
      "[4000]\ttraining's l1: 0.216536\tvalid_1's l1: 0.287209\n",
      "Early stopping, best iteration is:\n",
      "[4206]\ttraining's l1: 0.214323\tvalid_1's l1: 0.287038\n"
     ]
    },
    {
     "name": "stderr",
     "output_type": "stream",
     "text": [
      "Training fold 5\n"
     ]
    },
    {
     "name": "stdout",
     "output_type": "stream",
     "text": [
      "Training until validation scores don't improve for 50 rounds\n",
      "[500]\ttraining's l1: 0.278701\tvalid_1's l1: 0.301719\n",
      "[1000]\ttraining's l1: 0.261997\tvalid_1's l1: 0.29456\n",
      "[1500]\ttraining's l1: 0.251062\tvalid_1's l1: 0.291859\n",
      "[2000]\ttraining's l1: 0.242089\tvalid_1's l1: 0.29042\n",
      "[2500]\ttraining's l1: 0.2341\tvalid_1's l1: 0.289339\n",
      "[3000]\ttraining's l1: 0.22621\tvalid_1's l1: 0.288229\n",
      "[3500]\ttraining's l1: 0.219607\tvalid_1's l1: 0.28769\n",
      "Early stopping, best iteration is:\n",
      "[3931]\ttraining's l1: 0.214409\tvalid_1's l1: 0.287429\n"
     ]
    },
    {
     "name": "stderr",
     "output_type": "stream",
     "text": [
      "target 14\n",
      "Training fold 1\n"
     ]
    },
    {
     "name": "stdout",
     "output_type": "stream",
     "text": [
      "Training until validation scores don't improve for 50 rounds\n",
      "[500]\ttraining's l1: 0.130583\tvalid_1's l1: 0.139615\n"
     ]
    },
    {
     "name": "stderr",
     "output_type": "stream",
     "text": [
      "Training fold 2\n"
     ]
    },
    {
     "name": "stdout",
     "output_type": "stream",
     "text": [
      "Early stopping, best iteration is:\n",
      "[555]\ttraining's l1: 0.130184\tvalid_1's l1: 0.139598\n",
      "Training until validation scores don't improve for 50 rounds\n",
      "[500]\ttraining's l1: 0.132356\tvalid_1's l1: 0.131519\n"
     ]
    },
    {
     "name": "stderr",
     "output_type": "stream",
     "text": [
      "Training fold 3\n"
     ]
    },
    {
     "name": "stdout",
     "output_type": "stream",
     "text": [
      "Early stopping, best iteration is:\n",
      "[651]\ttraining's l1: 0.13118\tvalid_1's l1: 0.131448\n",
      "Training until validation scores don't improve for 50 rounds\n",
      "[500]\ttraining's l1: 0.131322\tvalid_1's l1: 0.135898\n"
     ]
    },
    {
     "name": "stderr",
     "output_type": "stream",
     "text": [
      "Training fold 4\n"
     ]
    },
    {
     "name": "stdout",
     "output_type": "stream",
     "text": [
      "Early stopping, best iteration is:\n",
      "[834]\ttraining's l1: 0.128957\tvalid_1's l1: 0.135724\n",
      "Training until validation scores don't improve for 50 rounds\n",
      "[500]\ttraining's l1: 0.131395\tvalid_1's l1: 0.136037\n"
     ]
    },
    {
     "name": "stderr",
     "output_type": "stream",
     "text": [
      "Training fold 5\n"
     ]
    },
    {
     "name": "stdout",
     "output_type": "stream",
     "text": [
      "Early stopping, best iteration is:\n",
      "[635]\ttraining's l1: 0.13035\tvalid_1's l1: 0.135975\n",
      "Training until validation scores don't improve for 50 rounds\n",
      "[500]\ttraining's l1: 0.130827\tvalid_1's l1: 0.137588\n"
     ]
    },
    {
     "name": "stderr",
     "output_type": "stream",
     "text": [
      "target 15\n",
      "Training fold 1\n"
     ]
    },
    {
     "name": "stdout",
     "output_type": "stream",
     "text": [
      "Early stopping, best iteration is:\n",
      "[542]\ttraining's l1: 0.130506\tvalid_1's l1: 0.137566\n",
      "Training until validation scores don't improve for 50 rounds\n",
      "[500]\ttraining's l1: 0.723115\tvalid_1's l1: 0.786258\n",
      "[1000]\ttraining's l1: 0.636876\tvalid_1's l1: 0.72012\n",
      "[1500]\ttraining's l1: 0.605549\tvalid_1's l1: 0.705007\n",
      "[2000]\ttraining's l1: 0.582194\tvalid_1's l1: 0.697585\n",
      "[2500]\ttraining's l1: 0.56397\tvalid_1's l1: 0.694159\n",
      "[3000]\ttraining's l1: 0.548033\tvalid_1's l1: 0.69216\n",
      "[3500]\ttraining's l1: 0.532498\tvalid_1's l1: 0.690479\n",
      "[4000]\ttraining's l1: 0.518509\tvalid_1's l1: 0.689502\n",
      "Early stopping, best iteration is:\n",
      "[3961]\ttraining's l1: 0.519545\tvalid_1's l1: 0.689465\n"
     ]
    },
    {
     "name": "stderr",
     "output_type": "stream",
     "text": [
      "Training fold 2\n"
     ]
    },
    {
     "name": "stdout",
     "output_type": "stream",
     "text": [
      "Training until validation scores don't improve for 50 rounds\n",
      "[500]\ttraining's l1: 0.729904\tvalid_1's l1: 0.763765\n",
      "[1000]\ttraining's l1: 0.640281\tvalid_1's l1: 0.695336\n",
      "[1500]\ttraining's l1: 0.610673\tvalid_1's l1: 0.680721\n",
      "[2000]\ttraining's l1: 0.588832\tvalid_1's l1: 0.674164\n",
      "[2500]\ttraining's l1: 0.570732\tvalid_1's l1: 0.67115\n",
      "[3000]\ttraining's l1: 0.553373\tvalid_1's l1: 0.669755\n",
      "Early stopping, best iteration is:\n",
      "[3193]\ttraining's l1: 0.547123\tvalid_1's l1: 0.669315\n"
     ]
    },
    {
     "name": "stderr",
     "output_type": "stream",
     "text": [
      "Training fold 3\n"
     ]
    },
    {
     "name": "stdout",
     "output_type": "stream",
     "text": [
      "Training until validation scores don't improve for 50 rounds\n",
      "[500]\ttraining's l1: 0.729681\tvalid_1's l1: 0.759477\n",
      "[1000]\ttraining's l1: 0.640663\tvalid_1's l1: 0.685968\n",
      "[1500]\ttraining's l1: 0.610062\tvalid_1's l1: 0.669082\n",
      "[2000]\ttraining's l1: 0.588316\tvalid_1's l1: 0.662437\n",
      "[2500]\ttraining's l1: 0.57038\tvalid_1's l1: 0.659113\n",
      "[3000]\ttraining's l1: 0.553063\tvalid_1's l1: 0.656331\n",
      "Early stopping, best iteration is:\n",
      "[3205]\ttraining's l1: 0.546865\tvalid_1's l1: 0.65606\n"
     ]
    },
    {
     "name": "stderr",
     "output_type": "stream",
     "text": [
      "Training fold 4\n"
     ]
    },
    {
     "name": "stdout",
     "output_type": "stream",
     "text": [
      "Training until validation scores don't improve for 50 rounds\n",
      "[500]\ttraining's l1: 0.727619\tvalid_1's l1: 0.778654\n",
      "[1000]\ttraining's l1: 0.638564\tvalid_1's l1: 0.711379\n",
      "[1500]\ttraining's l1: 0.608524\tvalid_1's l1: 0.697706\n",
      "[2000]\ttraining's l1: 0.584894\tvalid_1's l1: 0.691295\n",
      "[2500]\ttraining's l1: 0.566509\tvalid_1's l1: 0.68796\n",
      "[3000]\ttraining's l1: 0.549789\tvalid_1's l1: 0.685484\n",
      "[3500]\ttraining's l1: 0.533972\tvalid_1's l1: 0.683773\n",
      "[4000]\ttraining's l1: 0.519494\tvalid_1's l1: 0.682811\n",
      "Early stopping, best iteration is:\n",
      "[4256]\ttraining's l1: 0.51253\tvalid_1's l1: 0.682406\n"
     ]
    },
    {
     "name": "stderr",
     "output_type": "stream",
     "text": [
      "Training fold 5\n"
     ]
    },
    {
     "name": "stdout",
     "output_type": "stream",
     "text": [
      "Training until validation scores don't improve for 50 rounds\n",
      "[500]\ttraining's l1: 0.731631\tvalid_1's l1: 0.756256\n",
      "[1000]\ttraining's l1: 0.640149\tvalid_1's l1: 0.685935\n",
      "[1500]\ttraining's l1: 0.609211\tvalid_1's l1: 0.671131\n",
      "[2000]\ttraining's l1: 0.587573\tvalid_1's l1: 0.664869\n",
      "[2500]\ttraining's l1: 0.568091\tvalid_1's l1: 0.661992\n",
      "[3000]\ttraining's l1: 0.550852\tvalid_1's l1: 0.659687\n",
      "[3500]\ttraining's l1: 0.535378\tvalid_1's l1: 0.659041\n",
      "Early stopping, best iteration is:\n",
      "[3596]\ttraining's l1: 0.532437\tvalid_1's l1: 0.658887\n"
     ]
    },
    {
     "name": "stderr",
     "output_type": "stream",
     "text": [
      "target 16\n",
      "Training fold 1\n"
     ]
    },
    {
     "name": "stdout",
     "output_type": "stream",
     "text": [
      "Training until validation scores don't improve for 50 rounds\n",
      "[500]\ttraining's l1: 0.389802\tvalid_1's l1: 0.429552\n",
      "[1000]\ttraining's l1: 0.367916\tvalid_1's l1: 0.420762\n",
      "[1500]\ttraining's l1: 0.352599\tvalid_1's l1: 0.417222\n",
      "[2000]\ttraining's l1: 0.341119\tvalid_1's l1: 0.415756\n",
      "[2500]\ttraining's l1: 0.329927\tvalid_1's l1: 0.414203\n",
      "[3000]\ttraining's l1: 0.319588\tvalid_1's l1: 0.413003\n",
      "[3500]\ttraining's l1: 0.309956\tvalid_1's l1: 0.412038\n",
      "[4000]\ttraining's l1: 0.300963\tvalid_1's l1: 0.411365\n",
      "Early stopping, best iteration is:\n",
      "[4238]\ttraining's l1: 0.296975\tvalid_1's l1: 0.41105\n"
     ]
    },
    {
     "name": "stderr",
     "output_type": "stream",
     "text": [
      "Training fold 2\n"
     ]
    },
    {
     "name": "stdout",
     "output_type": "stream",
     "text": [
      "Training until validation scores don't improve for 50 rounds\n",
      "[500]\ttraining's l1: 0.395907\tvalid_1's l1: 0.414403\n",
      "[1000]\ttraining's l1: 0.372744\tvalid_1's l1: 0.404946\n",
      "[1500]\ttraining's l1: 0.357997\tvalid_1's l1: 0.402999\n",
      "Early stopping, best iteration is:\n",
      "[1909]\ttraining's l1: 0.347495\tvalid_1's l1: 0.401868\n"
     ]
    },
    {
     "name": "stderr",
     "output_type": "stream",
     "text": [
      "Training fold 3\n"
     ]
    },
    {
     "name": "stdout",
     "output_type": "stream",
     "text": [
      "Training until validation scores don't improve for 50 rounds\n",
      "[500]\ttraining's l1: 0.394631\tvalid_1's l1: 0.425932\n",
      "[1000]\ttraining's l1: 0.372482\tvalid_1's l1: 0.416754\n",
      "[1500]\ttraining's l1: 0.356557\tvalid_1's l1: 0.41196\n",
      "[2000]\ttraining's l1: 0.342712\tvalid_1's l1: 0.409351\n",
      "[2500]\ttraining's l1: 0.331746\tvalid_1's l1: 0.407621\n",
      "[3000]\ttraining's l1: 0.321564\tvalid_1's l1: 0.406584\n",
      "Early stopping, best iteration is:\n",
      "[2987]\ttraining's l1: 0.321801\tvalid_1's l1: 0.406573\n"
     ]
    },
    {
     "name": "stderr",
     "output_type": "stream",
     "text": [
      "Training fold 4\n"
     ]
    },
    {
     "name": "stdout",
     "output_type": "stream",
     "text": [
      "Training until validation scores don't improve for 50 rounds\n",
      "[500]\ttraining's l1: 0.392983\tvalid_1's l1: 0.42434\n",
      "[1000]\ttraining's l1: 0.369373\tvalid_1's l1: 0.416696\n",
      "[1500]\ttraining's l1: 0.354529\tvalid_1's l1: 0.413511\n",
      "[2000]\ttraining's l1: 0.341594\tvalid_1's l1: 0.410901\n",
      "Early stopping, best iteration is:\n",
      "[2236]\ttraining's l1: 0.336201\tvalid_1's l1: 0.410288\n"
     ]
    },
    {
     "name": "stderr",
     "output_type": "stream",
     "text": [
      "Training fold 5\n"
     ]
    },
    {
     "name": "stdout",
     "output_type": "stream",
     "text": [
      "Training until validation scores don't improve for 50 rounds\n",
      "[500]\ttraining's l1: 0.393596\tvalid_1's l1: 0.425057\n",
      "[1000]\ttraining's l1: 0.371342\tvalid_1's l1: 0.415947\n",
      "[1500]\ttraining's l1: 0.35572\tvalid_1's l1: 0.412044\n",
      "[2000]\ttraining's l1: 0.342097\tvalid_1's l1: 0.410009\n",
      "[2500]\ttraining's l1: 0.329839\tvalid_1's l1: 0.408349\n",
      "Early stopping, best iteration is:\n",
      "[2613]\ttraining's l1: 0.327239\tvalid_1's l1: 0.408077\n"
     ]
    },
    {
     "name": "stderr",
     "output_type": "stream",
     "text": [
      "target 17\n",
      "Training fold 1\n"
     ]
    },
    {
     "name": "stdout",
     "output_type": "stream",
     "text": [
      "Training until validation scores don't improve for 50 rounds\n",
      "[500]\ttraining's l1: 0.158749\tvalid_1's l1: 0.170474\n"
     ]
    },
    {
     "name": "stderr",
     "output_type": "stream",
     "text": [
      "Training fold 2\n"
     ]
    },
    {
     "name": "stdout",
     "output_type": "stream",
     "text": [
      "Early stopping, best iteration is:\n",
      "[575]\ttraining's l1: 0.158002\tvalid_1's l1: 0.170457\n",
      "Training until validation scores don't improve for 50 rounds\n",
      "[500]\ttraining's l1: 0.161032\tvalid_1's l1: 0.160045\n"
     ]
    },
    {
     "name": "stderr",
     "output_type": "stream",
     "text": [
      "Training fold 3\n"
     ]
    },
    {
     "name": "stdout",
     "output_type": "stream",
     "text": [
      "Early stopping, best iteration is:\n",
      "[664]\ttraining's l1: 0.159491\tvalid_1's l1: 0.159841\n",
      "Training until validation scores don't improve for 50 rounds\n",
      "[500]\ttraining's l1: 0.159705\tvalid_1's l1: 0.165059\n",
      "[1000]\ttraining's l1: 0.155442\tvalid_1's l1: 0.164683\n"
     ]
    },
    {
     "name": "stderr",
     "output_type": "stream",
     "text": [
      "Training fold 4\n"
     ]
    },
    {
     "name": "stdout",
     "output_type": "stream",
     "text": [
      "Early stopping, best iteration is:\n",
      "[1033]\ttraining's l1: 0.15515\tvalid_1's l1: 0.164659\n",
      "Training until validation scores don't improve for 50 rounds\n",
      "[500]\ttraining's l1: 0.159768\tvalid_1's l1: 0.165615\n"
     ]
    },
    {
     "name": "stderr",
     "output_type": "stream",
     "text": [
      "Training fold 5\n"
     ]
    },
    {
     "name": "stdout",
     "output_type": "stream",
     "text": [
      "Early stopping, best iteration is:\n",
      "[678]\ttraining's l1: 0.158085\tvalid_1's l1: 0.165408\n",
      "Training until validation scores don't improve for 50 rounds\n",
      "[500]\ttraining's l1: 0.159022\tvalid_1's l1: 0.167029\n"
     ]
    },
    {
     "name": "stderr",
     "output_type": "stream",
     "text": [
      "oof result 0.2009654190263977\n"
     ]
    },
    {
     "name": "stdout",
     "output_type": "stream",
     "text": [
      "Early stopping, best iteration is:\n",
      "[603]\ttraining's l1: 0.158124\tvalid_1's l1: 0.167014\n"
     ]
    },
    {
     "name": "stderr",
     "output_type": "stream",
     "text": [
      "best_score: 0.2010\n"
     ]
    },
    {
     "name": "stdout",
     "output_type": "stream",
     "text": [
      "sample_sub_len:  1727\n",
      "sub_len:  1727\n"
     ]
    }
   ],
   "source": [
    "main(train_df, train_feat, y, folds, test_feat)"
   ]
  },
  {
   "cell_type": "code",
   "execution_count": 31,
   "metadata": {},
   "outputs": [],
   "source": [
    "oof = pd.read_csv(CFG.submission_dir + 'oof_feat_gbdt.csv')\n",
    "sub_oof = pd.read_csv(CFG.submission_dir + f'submission_oof.csv')"
   ]
  },
  {
   "cell_type": "code",
   "execution_count": 32,
   "metadata": {},
   "outputs": [
    {
     "name": "stderr",
     "output_type": "stream",
     "text": [
      "x_0 score: 0.06243648772923546\n",
      "y_0 score: 0.032444826084300195\n",
      "z_0 score: 0.025476392100733852\n",
      "x_1 score: 0.1323979090841217\n",
      "y_1 score: 0.07172752351442196\n",
      "z_1 score: 0.05239006647033444\n",
      "x_2 score: 0.2243985472011535\n",
      "y_2 score: 0.12184061836190316\n",
      "z_2 score: 0.07971518812525064\n",
      "x_3 score: 0.3472778572306549\n",
      "y_3 score: 0.1926262671245721\n",
      "z_3 score: 0.10760725663828342\n",
      "x_4 score: 0.4995311835925587\n",
      "y_4 score: 0.2871709529043233\n",
      "z_4 score: 0.13606239243746765\n",
      "x_5 score: 0.6712269098847001\n",
      "y_5 score: 0.4075712339158517\n",
      "z_5 score: 0.16547593007529185\n"
     ]
    }
   ],
   "source": [
    "for i, col in enumerate(CFG.target_col):\n",
    "    y_true = oof[col].values\n",
    "    y_pred = oof[f'pred_{i}'].values\n",
    "\n",
    "    score = calc_mae_atmacup(y_true, y_pred)\n",
    "    Logger.info(f'{col} score: {score}')"
   ]
  }
 ],
 "metadata": {
  "kernelspec": {
   "display_name": "kaggle-pipeline-atmacup-18-LNuDPojc-py3.11",
   "language": "python",
   "name": "python3"
  },
  "language_info": {
   "codemirror_mode": {
    "name": "ipython",
    "version": 3
   },
   "file_extension": ".py",
   "mimetype": "text/x-python",
   "name": "python",
   "nbconvert_exporter": "python",
   "pygments_lexer": "ipython3",
   "version": "3.10.13"
  },
  "orig_nbformat": 4
 },
 "nbformat": 4,
 "nbformat_minor": 2
}
